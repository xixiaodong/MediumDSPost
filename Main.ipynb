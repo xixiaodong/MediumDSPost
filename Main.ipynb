{
 "cells": [
  {
   "cell_type": "markdown",
   "metadata": {},
   "source": [
    "## StackOverflow Survey 2020"
   ]
  },
  {
   "cell_type": "markdown",
   "metadata": {},
   "source": [
    "### Note - link to blog post\n",
    "The link to the blog post can be found under \"Links\" in `README.md`. If in any case that does not work. Please find it [here](https://medium.com/@xi_xiaodong/a-simple-look-into-stack-overflow-2020-survey-results-4e2670042989)."
   ]
  },
  {
   "cell_type": "markdown",
   "metadata": {},
   "source": [
    "My Questions:\n",
    "1. Relationship between age and number of languages worked with?\n",
    "2. Proportion of visit and participate, and the relationship to JobSatisfaction\n",
    "3. People's option when stuck on problem? Any insights that we get from the survey results on the optimal problem-solving approach?"
   ]
  },
  {
   "cell_type": "markdown",
   "metadata": {},
   "source": [
    "Business understanding\n",
    "---"
   ]
  },
  {
   "cell_type": "markdown",
   "metadata": {},
   "source": [
    "Stack Overflow is an online platform designed for idea exchange and sharing of problem solving issues and experiences. The Stack Overflow annual survey contains the data describing the user behaviour and experience. With certain data manipulation techniques, one can gain vast amount of insights from the survey results."
   ]
  },
  {
   "cell_type": "markdown",
   "metadata": {},
   "source": [
    "Data understanding\n",
    "---"
   ]
  },
  {
   "cell_type": "markdown",
   "metadata": {},
   "source": [
    "The data is collected in 2020 and would mainly contain user responses summarising their experience from 2019 to 2020. However, there are certain fields with unexpected survey inputs, which can be the result of typo, mis-entered user value, and missing data. There might be several reasons for missing data, but we need to investigate."
   ]
  },
  {
   "cell_type": "markdown",
   "metadata": {},
   "source": [
    "Prepare data\n",
    "---"
   ]
  },
  {
   "cell_type": "markdown",
   "metadata": {},
   "source": [
    "We need to first visualise data and drop any columns / rows if necessary, so as to minimise the impact from missing data on data modelling.\n",
    "\n",
    "The data preparation can be carried out for the whole dataset. However, this might be tedious and I might be spending too much time on fields that I do not need to answer the 3 questions in my mind. Therefore, I will only prepare the data for modelling for each of the questions, so that I am efficient."
   ]
  },
  {
   "cell_type": "markdown",
   "metadata": {},
   "source": [
    "Missing values\n",
    "---"
   ]
  },
  {
   "cell_type": "markdown",
   "metadata": {},
   "source": [
    "Missing values are handled when it affects the modelling. However, they are treated with care, because in some cases, a \"nan\" value might suggest that the field is zero, which is helpful and we can add value by considering this in modelling."
   ]
  },
  {
   "cell_type": "code",
   "execution_count": 1,
   "metadata": {},
   "outputs": [],
   "source": [
    "import numpy as np\n",
    "import pandas as pd\n",
    "import matplotlib.pyplot as plt\n",
    "import seaborn as sns\n",
    "from collections import defaultdict"
   ]
  },
  {
   "cell_type": "code",
   "execution_count": 2,
   "metadata": {},
   "outputs": [],
   "source": [
    "df = pd.read_csv('developer_survey_2020/survey_results_public.csv', delimiter=',')"
   ]
  },
  {
   "cell_type": "code",
   "execution_count": 3,
   "metadata": {},
   "outputs": [
    {
     "data": {
      "text/html": [
       "<div>\n",
       "<style scoped>\n",
       "    .dataframe tbody tr th:only-of-type {\n",
       "        vertical-align: middle;\n",
       "    }\n",
       "\n",
       "    .dataframe tbody tr th {\n",
       "        vertical-align: top;\n",
       "    }\n",
       "\n",
       "    .dataframe thead th {\n",
       "        text-align: right;\n",
       "    }\n",
       "</style>\n",
       "<table border=\"1\" class=\"dataframe\">\n",
       "  <thead>\n",
       "    <tr style=\"text-align: right;\">\n",
       "      <th></th>\n",
       "      <th>Respondent</th>\n",
       "      <th>MainBranch</th>\n",
       "      <th>Hobbyist</th>\n",
       "      <th>Age</th>\n",
       "      <th>Age1stCode</th>\n",
       "      <th>CompFreq</th>\n",
       "      <th>CompTotal</th>\n",
       "      <th>ConvertedComp</th>\n",
       "      <th>Country</th>\n",
       "      <th>CurrencyDesc</th>\n",
       "      <th>...</th>\n",
       "      <th>SurveyEase</th>\n",
       "      <th>SurveyLength</th>\n",
       "      <th>Trans</th>\n",
       "      <th>UndergradMajor</th>\n",
       "      <th>WebframeDesireNextYear</th>\n",
       "      <th>WebframeWorkedWith</th>\n",
       "      <th>WelcomeChange</th>\n",
       "      <th>WorkWeekHrs</th>\n",
       "      <th>YearsCode</th>\n",
       "      <th>YearsCodePro</th>\n",
       "    </tr>\n",
       "  </thead>\n",
       "  <tbody>\n",
       "    <tr>\n",
       "      <th>0</th>\n",
       "      <td>1</td>\n",
       "      <td>I am a developer by profession</td>\n",
       "      <td>Yes</td>\n",
       "      <td>NaN</td>\n",
       "      <td>13</td>\n",
       "      <td>Monthly</td>\n",
       "      <td>NaN</td>\n",
       "      <td>NaN</td>\n",
       "      <td>Germany</td>\n",
       "      <td>European Euro</td>\n",
       "      <td>...</td>\n",
       "      <td>Neither easy nor difficult</td>\n",
       "      <td>Appropriate in length</td>\n",
       "      <td>No</td>\n",
       "      <td>Computer science, computer engineering, or sof...</td>\n",
       "      <td>ASP.NET Core</td>\n",
       "      <td>ASP.NET;ASP.NET Core</td>\n",
       "      <td>Just as welcome now as I felt last year</td>\n",
       "      <td>50.0</td>\n",
       "      <td>36</td>\n",
       "      <td>27</td>\n",
       "    </tr>\n",
       "    <tr>\n",
       "      <th>1</th>\n",
       "      <td>2</td>\n",
       "      <td>I am a developer by profession</td>\n",
       "      <td>No</td>\n",
       "      <td>NaN</td>\n",
       "      <td>19</td>\n",
       "      <td>NaN</td>\n",
       "      <td>NaN</td>\n",
       "      <td>NaN</td>\n",
       "      <td>United Kingdom</td>\n",
       "      <td>Pound sterling</td>\n",
       "      <td>...</td>\n",
       "      <td>NaN</td>\n",
       "      <td>NaN</td>\n",
       "      <td>NaN</td>\n",
       "      <td>Computer science, computer engineering, or sof...</td>\n",
       "      <td>NaN</td>\n",
       "      <td>NaN</td>\n",
       "      <td>Somewhat more welcome now than last year</td>\n",
       "      <td>NaN</td>\n",
       "      <td>7</td>\n",
       "      <td>4</td>\n",
       "    </tr>\n",
       "    <tr>\n",
       "      <th>2</th>\n",
       "      <td>3</td>\n",
       "      <td>I code primarily as a hobby</td>\n",
       "      <td>Yes</td>\n",
       "      <td>NaN</td>\n",
       "      <td>15</td>\n",
       "      <td>NaN</td>\n",
       "      <td>NaN</td>\n",
       "      <td>NaN</td>\n",
       "      <td>Russian Federation</td>\n",
       "      <td>NaN</td>\n",
       "      <td>...</td>\n",
       "      <td>Neither easy nor difficult</td>\n",
       "      <td>Appropriate in length</td>\n",
       "      <td>NaN</td>\n",
       "      <td>NaN</td>\n",
       "      <td>NaN</td>\n",
       "      <td>NaN</td>\n",
       "      <td>Somewhat more welcome now than last year</td>\n",
       "      <td>NaN</td>\n",
       "      <td>4</td>\n",
       "      <td>NaN</td>\n",
       "    </tr>\n",
       "    <tr>\n",
       "      <th>3</th>\n",
       "      <td>4</td>\n",
       "      <td>I am a developer by profession</td>\n",
       "      <td>Yes</td>\n",
       "      <td>25.0</td>\n",
       "      <td>18</td>\n",
       "      <td>NaN</td>\n",
       "      <td>NaN</td>\n",
       "      <td>NaN</td>\n",
       "      <td>Albania</td>\n",
       "      <td>Albanian lek</td>\n",
       "      <td>...</td>\n",
       "      <td>NaN</td>\n",
       "      <td>NaN</td>\n",
       "      <td>No</td>\n",
       "      <td>Computer science, computer engineering, or sof...</td>\n",
       "      <td>NaN</td>\n",
       "      <td>NaN</td>\n",
       "      <td>Somewhat less welcome now than last year</td>\n",
       "      <td>40.0</td>\n",
       "      <td>7</td>\n",
       "      <td>4</td>\n",
       "    </tr>\n",
       "    <tr>\n",
       "      <th>4</th>\n",
       "      <td>5</td>\n",
       "      <td>I used to be a developer by profession, but no...</td>\n",
       "      <td>Yes</td>\n",
       "      <td>31.0</td>\n",
       "      <td>16</td>\n",
       "      <td>NaN</td>\n",
       "      <td>NaN</td>\n",
       "      <td>NaN</td>\n",
       "      <td>United States</td>\n",
       "      <td>NaN</td>\n",
       "      <td>...</td>\n",
       "      <td>Easy</td>\n",
       "      <td>Too short</td>\n",
       "      <td>No</td>\n",
       "      <td>Computer science, computer engineering, or sof...</td>\n",
       "      <td>Django;Ruby on Rails</td>\n",
       "      <td>Ruby on Rails</td>\n",
       "      <td>Just as welcome now as I felt last year</td>\n",
       "      <td>NaN</td>\n",
       "      <td>15</td>\n",
       "      <td>8</td>\n",
       "    </tr>\n",
       "  </tbody>\n",
       "</table>\n",
       "<p>5 rows × 61 columns</p>\n",
       "</div>"
      ],
      "text/plain": [
       "   Respondent                                         MainBranch Hobbyist  \\\n",
       "0           1                     I am a developer by profession      Yes   \n",
       "1           2                     I am a developer by profession       No   \n",
       "2           3                        I code primarily as a hobby      Yes   \n",
       "3           4                     I am a developer by profession      Yes   \n",
       "4           5  I used to be a developer by profession, but no...      Yes   \n",
       "\n",
       "    Age Age1stCode CompFreq  CompTotal  ConvertedComp             Country  \\\n",
       "0   NaN         13  Monthly        NaN            NaN             Germany   \n",
       "1   NaN         19      NaN        NaN            NaN      United Kingdom   \n",
       "2   NaN         15      NaN        NaN            NaN  Russian Federation   \n",
       "3  25.0         18      NaN        NaN            NaN             Albania   \n",
       "4  31.0         16      NaN        NaN            NaN       United States   \n",
       "\n",
       "     CurrencyDesc  ...                  SurveyEase           SurveyLength  \\\n",
       "0   European Euro  ...  Neither easy nor difficult  Appropriate in length   \n",
       "1  Pound sterling  ...                         NaN                    NaN   \n",
       "2             NaN  ...  Neither easy nor difficult  Appropriate in length   \n",
       "3    Albanian lek  ...                         NaN                    NaN   \n",
       "4             NaN  ...                        Easy              Too short   \n",
       "\n",
       "  Trans                                     UndergradMajor  \\\n",
       "0    No  Computer science, computer engineering, or sof...   \n",
       "1   NaN  Computer science, computer engineering, or sof...   \n",
       "2   NaN                                                NaN   \n",
       "3    No  Computer science, computer engineering, or sof...   \n",
       "4    No  Computer science, computer engineering, or sof...   \n",
       "\n",
       "  WebframeDesireNextYear    WebframeWorkedWith  \\\n",
       "0           ASP.NET Core  ASP.NET;ASP.NET Core   \n",
       "1                    NaN                   NaN   \n",
       "2                    NaN                   NaN   \n",
       "3                    NaN                   NaN   \n",
       "4   Django;Ruby on Rails         Ruby on Rails   \n",
       "\n",
       "                              WelcomeChange WorkWeekHrs YearsCode YearsCodePro  \n",
       "0   Just as welcome now as I felt last year        50.0        36           27  \n",
       "1  Somewhat more welcome now than last year         NaN         7            4  \n",
       "2  Somewhat more welcome now than last year         NaN         4          NaN  \n",
       "3  Somewhat less welcome now than last year        40.0         7            4  \n",
       "4   Just as welcome now as I felt last year         NaN        15            8  \n",
       "\n",
       "[5 rows x 61 columns]"
      ]
     },
     "execution_count": 3,
     "metadata": {},
     "output_type": "execute_result"
    }
   ],
   "source": [
    "df.head()"
   ]
  },
  {
   "cell_type": "code",
   "execution_count": 4,
   "metadata": {
    "scrolled": true
   },
   "outputs": [
    {
     "data": {
      "text/html": [
       "<div>\n",
       "<style scoped>\n",
       "    .dataframe tbody tr th:only-of-type {\n",
       "        vertical-align: middle;\n",
       "    }\n",
       "\n",
       "    .dataframe tbody tr th {\n",
       "        vertical-align: top;\n",
       "    }\n",
       "\n",
       "    .dataframe thead th {\n",
       "        text-align: right;\n",
       "    }\n",
       "</style>\n",
       "<table border=\"1\" class=\"dataframe\">\n",
       "  <thead>\n",
       "    <tr style=\"text-align: right;\">\n",
       "      <th></th>\n",
       "      <th>Respondent</th>\n",
       "      <th>Age</th>\n",
       "      <th>CompTotal</th>\n",
       "      <th>ConvertedComp</th>\n",
       "      <th>WorkWeekHrs</th>\n",
       "    </tr>\n",
       "  </thead>\n",
       "  <tbody>\n",
       "    <tr>\n",
       "      <th>count</th>\n",
       "      <td>64461.000000</td>\n",
       "      <td>45446.000000</td>\n",
       "      <td>3.482600e+04</td>\n",
       "      <td>3.475600e+04</td>\n",
       "      <td>41151.000000</td>\n",
       "    </tr>\n",
       "    <tr>\n",
       "      <th>mean</th>\n",
       "      <td>32554.079738</td>\n",
       "      <td>30.834111</td>\n",
       "      <td>3.190464e+242</td>\n",
       "      <td>1.037561e+05</td>\n",
       "      <td>40.782174</td>\n",
       "    </tr>\n",
       "    <tr>\n",
       "      <th>std</th>\n",
       "      <td>18967.442360</td>\n",
       "      <td>9.585392</td>\n",
       "      <td>inf</td>\n",
       "      <td>2.268853e+05</td>\n",
       "      <td>17.816383</td>\n",
       "    </tr>\n",
       "    <tr>\n",
       "      <th>min</th>\n",
       "      <td>1.000000</td>\n",
       "      <td>1.000000</td>\n",
       "      <td>0.000000e+00</td>\n",
       "      <td>0.000000e+00</td>\n",
       "      <td>1.000000</td>\n",
       "    </tr>\n",
       "    <tr>\n",
       "      <th>25%</th>\n",
       "      <td>16116.000000</td>\n",
       "      <td>24.000000</td>\n",
       "      <td>2.000000e+04</td>\n",
       "      <td>2.464800e+04</td>\n",
       "      <td>40.000000</td>\n",
       "    </tr>\n",
       "    <tr>\n",
       "      <th>50%</th>\n",
       "      <td>32231.000000</td>\n",
       "      <td>29.000000</td>\n",
       "      <td>6.300000e+04</td>\n",
       "      <td>5.404900e+04</td>\n",
       "      <td>40.000000</td>\n",
       "    </tr>\n",
       "    <tr>\n",
       "      <th>75%</th>\n",
       "      <td>49142.000000</td>\n",
       "      <td>35.000000</td>\n",
       "      <td>1.250000e+05</td>\n",
       "      <td>9.500000e+04</td>\n",
       "      <td>44.000000</td>\n",
       "    </tr>\n",
       "    <tr>\n",
       "      <th>max</th>\n",
       "      <td>65639.000000</td>\n",
       "      <td>279.000000</td>\n",
       "      <td>1.111111e+247</td>\n",
       "      <td>2.000000e+06</td>\n",
       "      <td>475.000000</td>\n",
       "    </tr>\n",
       "  </tbody>\n",
       "</table>\n",
       "</div>"
      ],
      "text/plain": [
       "         Respondent           Age      CompTotal  ConvertedComp   WorkWeekHrs\n",
       "count  64461.000000  45446.000000   3.482600e+04   3.475600e+04  41151.000000\n",
       "mean   32554.079738     30.834111  3.190464e+242   1.037561e+05     40.782174\n",
       "std    18967.442360      9.585392            inf   2.268853e+05     17.816383\n",
       "min        1.000000      1.000000   0.000000e+00   0.000000e+00      1.000000\n",
       "25%    16116.000000     24.000000   2.000000e+04   2.464800e+04     40.000000\n",
       "50%    32231.000000     29.000000   6.300000e+04   5.404900e+04     40.000000\n",
       "75%    49142.000000     35.000000   1.250000e+05   9.500000e+04     44.000000\n",
       "max    65639.000000    279.000000  1.111111e+247   2.000000e+06    475.000000"
      ]
     },
     "execution_count": 4,
     "metadata": {},
     "output_type": "execute_result"
    }
   ],
   "source": [
    "df.describe()"
   ]
  },
  {
   "cell_type": "markdown",
   "metadata": {},
   "source": [
    "---\n",
    "Question 1\n",
    "---"
   ]
  },
  {
   "cell_type": "code",
   "execution_count": 41,
   "metadata": {},
   "outputs": [
    {
     "data": {
      "text/plain": [
       "Age    1\n",
       "dtype: int64"
      ]
     },
     "execution_count": 41,
     "metadata": {},
     "output_type": "execute_result"
    }
   ],
   "source": [
    "np.sum(df[['Age']] > 100)"
   ]
  },
  {
   "cell_type": "code",
   "execution_count": 43,
   "metadata": {},
   "outputs": [
    {
     "data": {
      "text/plain": [
       "LanguageWorkedWith    object\n",
       "dtype: object"
      ]
     },
     "execution_count": 43,
     "metadata": {},
     "output_type": "execute_result"
    }
   ],
   "source": [
    "df[['LanguageWorkedWith']].dtypes"
   ]
  },
  {
   "cell_type": "code",
   "execution_count": 7,
   "metadata": {},
   "outputs": [],
   "source": [
    "# Change the object to string\n",
    "df['LanguageWorkedWith'] = df['LanguageWorkedWith'].astype('str') "
   ]
  },
  {
   "cell_type": "code",
   "execution_count": 8,
   "metadata": {},
   "outputs": [
    {
     "data": {
      "text/html": [
       "<div>\n",
       "<style scoped>\n",
       "    .dataframe tbody tr th:only-of-type {\n",
       "        vertical-align: middle;\n",
       "    }\n",
       "\n",
       "    .dataframe tbody tr th {\n",
       "        vertical-align: top;\n",
       "    }\n",
       "\n",
       "    .dataframe thead th {\n",
       "        text-align: right;\n",
       "    }\n",
       "</style>\n",
       "<table border=\"1\" class=\"dataframe\">\n",
       "  <thead>\n",
       "    <tr style=\"text-align: right;\">\n",
       "      <th></th>\n",
       "      <th>LanguageWorkedWith</th>\n",
       "    </tr>\n",
       "  </thead>\n",
       "  <tbody>\n",
       "    <tr>\n",
       "      <th>0</th>\n",
       "      <td>C#;HTML/CSS;JavaScript</td>\n",
       "    </tr>\n",
       "    <tr>\n",
       "      <th>1</th>\n",
       "      <td>JavaScript;Swift</td>\n",
       "    </tr>\n",
       "    <tr>\n",
       "      <th>2</th>\n",
       "      <td>Objective-C;Python;Swift</td>\n",
       "    </tr>\n",
       "    <tr>\n",
       "      <th>3</th>\n",
       "      <td>nan</td>\n",
       "    </tr>\n",
       "    <tr>\n",
       "      <th>4</th>\n",
       "      <td>HTML/CSS;Ruby;SQL</td>\n",
       "    </tr>\n",
       "    <tr>\n",
       "      <th>...</th>\n",
       "      <td>...</td>\n",
       "    </tr>\n",
       "    <tr>\n",
       "      <th>64456</th>\n",
       "      <td>nan</td>\n",
       "    </tr>\n",
       "    <tr>\n",
       "      <th>64457</th>\n",
       "      <td>Assembly;Bash/Shell/PowerShell;C;C#;C++;Dart;G...</td>\n",
       "    </tr>\n",
       "    <tr>\n",
       "      <th>64458</th>\n",
       "      <td>nan</td>\n",
       "    </tr>\n",
       "    <tr>\n",
       "      <th>64459</th>\n",
       "      <td>HTML/CSS</td>\n",
       "    </tr>\n",
       "    <tr>\n",
       "      <th>64460</th>\n",
       "      <td>C#;HTML/CSS;Java;JavaScript;SQL</td>\n",
       "    </tr>\n",
       "  </tbody>\n",
       "</table>\n",
       "<p>64461 rows × 1 columns</p>\n",
       "</div>"
      ],
      "text/plain": [
       "                                      LanguageWorkedWith\n",
       "0                                 C#;HTML/CSS;JavaScript\n",
       "1                                       JavaScript;Swift\n",
       "2                               Objective-C;Python;Swift\n",
       "3                                                    nan\n",
       "4                                      HTML/CSS;Ruby;SQL\n",
       "...                                                  ...\n",
       "64456                                                nan\n",
       "64457  Assembly;Bash/Shell/PowerShell;C;C#;C++;Dart;G...\n",
       "64458                                                nan\n",
       "64459                                           HTML/CSS\n",
       "64460                    C#;HTML/CSS;Java;JavaScript;SQL\n",
       "\n",
       "[64461 rows x 1 columns]"
      ]
     },
     "execution_count": 8,
     "metadata": {},
     "output_type": "execute_result"
    }
   ],
   "source": [
    "df[['LanguageWorkedWith']]"
   ]
  },
  {
   "cell_type": "markdown",
   "metadata": {},
   "source": [
    "### Analysis - and missing value consideration\n",
    "We can see that some people entered many languages and some entries appear as \"nan\". This might not be because the entry is missing. This actually reflects the fact that some users of Stack Overflow do not have any experience with any language. This is very plausible, since for some of the fresher users, this might be a time for them to start learning their first computing language. Therefore, we should count the \"nan\" as \"having worked with zero laguange in the past\". For the rest of the entries, we can simply count the number of semi-colons and add one to the count, in order to get the total number of languages specified."
   ]
  },
  {
   "cell_type": "code",
   "execution_count": 9,
   "metadata": {},
   "outputs": [],
   "source": [
    "def countLang(x):\n",
    "    '''\n",
    "    Count the number of languages separated by \";\"\n",
    "    Input:\n",
    "        dataframe\n",
    "    Returns:\n",
    "        Count of items in the cell\n",
    "    '''\n",
    "    if x == 'nan':\n",
    "        return 0\n",
    "    else:\n",
    "        return x.count(';') + 1"
   ]
  },
  {
   "cell_type": "code",
   "execution_count": 10,
   "metadata": {},
   "outputs": [],
   "source": [
    "df['NumLang'] = df.apply(lambda x: countLang(x['LanguageWorkedWith']), axis=1)"
   ]
  },
  {
   "cell_type": "code",
   "execution_count": 11,
   "metadata": {},
   "outputs": [
    {
     "data": {
      "text/html": [
       "<div>\n",
       "<style scoped>\n",
       "    .dataframe tbody tr th:only-of-type {\n",
       "        vertical-align: middle;\n",
       "    }\n",
       "\n",
       "    .dataframe tbody tr th {\n",
       "        vertical-align: top;\n",
       "    }\n",
       "\n",
       "    .dataframe thead th {\n",
       "        text-align: right;\n",
       "    }\n",
       "</style>\n",
       "<table border=\"1\" class=\"dataframe\">\n",
       "  <thead>\n",
       "    <tr style=\"text-align: right;\">\n",
       "      <th></th>\n",
       "      <th>NumLang</th>\n",
       "    </tr>\n",
       "  </thead>\n",
       "  <tbody>\n",
       "    <tr>\n",
       "      <th>0</th>\n",
       "      <td>3</td>\n",
       "    </tr>\n",
       "    <tr>\n",
       "      <th>1</th>\n",
       "      <td>2</td>\n",
       "    </tr>\n",
       "    <tr>\n",
       "      <th>2</th>\n",
       "      <td>3</td>\n",
       "    </tr>\n",
       "    <tr>\n",
       "      <th>3</th>\n",
       "      <td>0</td>\n",
       "    </tr>\n",
       "    <tr>\n",
       "      <th>4</th>\n",
       "      <td>3</td>\n",
       "    </tr>\n",
       "    <tr>\n",
       "      <th>...</th>\n",
       "      <td>...</td>\n",
       "    </tr>\n",
       "    <tr>\n",
       "      <th>64456</th>\n",
       "      <td>0</td>\n",
       "    </tr>\n",
       "    <tr>\n",
       "      <th>64457</th>\n",
       "      <td>25</td>\n",
       "    </tr>\n",
       "    <tr>\n",
       "      <th>64458</th>\n",
       "      <td>0</td>\n",
       "    </tr>\n",
       "    <tr>\n",
       "      <th>64459</th>\n",
       "      <td>1</td>\n",
       "    </tr>\n",
       "    <tr>\n",
       "      <th>64460</th>\n",
       "      <td>5</td>\n",
       "    </tr>\n",
       "  </tbody>\n",
       "</table>\n",
       "<p>64461 rows × 1 columns</p>\n",
       "</div>"
      ],
      "text/plain": [
       "       NumLang\n",
       "0            3\n",
       "1            2\n",
       "2            3\n",
       "3            0\n",
       "4            3\n",
       "...        ...\n",
       "64456        0\n",
       "64457       25\n",
       "64458        0\n",
       "64459        1\n",
       "64460        5\n",
       "\n",
       "[64461 rows x 1 columns]"
      ]
     },
     "execution_count": 11,
     "metadata": {},
     "output_type": "execute_result"
    }
   ],
   "source": [
    "df[['NumLang']]"
   ]
  },
  {
   "cell_type": "markdown",
   "metadata": {},
   "source": [
    "### Analysis\n",
    "We see that the numbers are nicely calculated. Let's now put the numbers into a bar graph so as to see the distribution of our population over the number of languages."
   ]
  },
  {
   "cell_type": "code",
   "execution_count": 17,
   "metadata": {},
   "outputs": [
    {
     "data": {
      "text/plain": [
       "(array([34386., 26691.,  3123.,   185.,    76.]),\n",
       " array([ 0.,  5., 10., 15., 20., 25.]),\n",
       " <a list of 5 Patch objects>)"
      ]
     },
     "execution_count": 17,
     "metadata": {},
     "output_type": "execute_result"
    },
    {
     "data": {
      "image/png": "[encoded data removed]",
      "text/plain": [
       "<Figure size 432x288 with 1 Axes>"
      ]
     },
     "metadata": {
      "needs_background": "light"
     },
     "output_type": "display_data"
    }
   ],
   "source": [
    "plt.hist(df['NumLang'],bins=5)"
   ]
  },
  {
   "cell_type": "markdown",
   "metadata": {},
   "source": [
    "### Analysis\n",
    "The bar graph shows us that the majority of people have worked with fewer than 10 languages. Some of them have 10 to 15. Also, it seems that there are a few counts in the 15-20 and 20-25 region, but we are not sure. Let's check if that is really the case."
   ]
  },
  {
   "cell_type": "code",
   "execution_count": 12,
   "metadata": {},
   "outputs": [
    {
     "data": {
      "text/html": [
       "<div>\n",
       "<style scoped>\n",
       "    .dataframe tbody tr th:only-of-type {\n",
       "        vertical-align: middle;\n",
       "    }\n",
       "\n",
       "    .dataframe tbody tr th {\n",
       "        vertical-align: top;\n",
       "    }\n",
       "\n",
       "    .dataframe thead th {\n",
       "        text-align: right;\n",
       "    }\n",
       "</style>\n",
       "<table border=\"1\" class=\"dataframe\">\n",
       "  <thead>\n",
       "    <tr style=\"text-align: right;\">\n",
       "      <th></th>\n",
       "      <th>NumLang</th>\n",
       "    </tr>\n",
       "  </thead>\n",
       "  <tbody>\n",
       "    <tr>\n",
       "      <th>count</th>\n",
       "      <td>64461.00000</td>\n",
       "    </tr>\n",
       "    <tr>\n",
       "      <th>mean</th>\n",
       "      <td>4.46788</td>\n",
       "    </tr>\n",
       "    <tr>\n",
       "      <th>std</th>\n",
       "      <td>2.97310</td>\n",
       "    </tr>\n",
       "    <tr>\n",
       "      <th>min</th>\n",
       "      <td>0.00000</td>\n",
       "    </tr>\n",
       "    <tr>\n",
       "      <th>25%</th>\n",
       "      <td>2.00000</td>\n",
       "    </tr>\n",
       "    <tr>\n",
       "      <th>50%</th>\n",
       "      <td>4.00000</td>\n",
       "    </tr>\n",
       "    <tr>\n",
       "      <th>75%</th>\n",
       "      <td>6.00000</td>\n",
       "    </tr>\n",
       "    <tr>\n",
       "      <th>max</th>\n",
       "      <td>25.00000</td>\n",
       "    </tr>\n",
       "  </tbody>\n",
       "</table>\n",
       "</div>"
      ],
      "text/plain": [
       "           NumLang\n",
       "count  64461.00000\n",
       "mean       4.46788\n",
       "std        2.97310\n",
       "min        0.00000\n",
       "25%        2.00000\n",
       "50%        4.00000\n",
       "75%        6.00000\n",
       "max       25.00000"
      ]
     },
     "execution_count": 12,
     "metadata": {},
     "output_type": "execute_result"
    }
   ],
   "source": [
    "df[['NumLang']].describe()"
   ]
  },
  {
   "cell_type": "markdown",
   "metadata": {},
   "source": [
    "### Analysis\n",
    "Indeed! The max value is 25, showing that there are people who have worked with a lot of languages. Let's assume that this is true without further knowledge about the people, and carry on with analysis."
   ]
  },
  {
   "cell_type": "code",
   "execution_count": 14,
   "metadata": {
    "scrolled": true
   },
   "outputs": [
    {
     "data": {
      "text/plain": [
       "0.2949845643102031"
      ]
     },
     "execution_count": 14,
     "metadata": {},
     "output_type": "execute_result"
    }
   ],
   "source": [
    "np.sum(df['Age'].isnull())/df.shape[0]"
   ]
  },
  {
   "cell_type": "markdown",
   "metadata": {},
   "source": [
    "### Analysis - missing value treatment\n",
    "We see that many entries are missing under \"Age\". This might be because that some people are mroe sensitive and are unwilling to disclose their age. Let's remove those becasue they are not helpful for my analysis."
   ]
  },
  {
   "cell_type": "code",
   "execution_count": 15,
   "metadata": {},
   "outputs": [],
   "source": [
    "df1 = df.dropna(subset=['Age'])"
   ]
  },
  {
   "cell_type": "code",
   "execution_count": 18,
   "metadata": {},
   "outputs": [
    {
     "data": {
      "image/png": "[encoded data removed]",
      "text/plain": [
       "<Figure size 432x288 with 1 Axes>"
      ]
     },
     "metadata": {
      "needs_background": "light"
     },
     "output_type": "display_data"
    }
   ],
   "source": [
    "sns.scatterplot(df1['Age'], df1['NumLang']);"
   ]
  },
  {
   "cell_type": "code",
   "execution_count": 17,
   "metadata": {},
   "outputs": [
    {
     "data": {
      "text/plain": [
       "279.0"
      ]
     },
     "execution_count": 17,
     "metadata": {},
     "output_type": "execute_result"
    }
   ],
   "source": [
    "df1['Age'].max()"
   ]
  },
  {
   "cell_type": "markdown",
   "metadata": {},
   "source": [
    "Wow! There is one person with age 279! This cannot be true. While this might be a typo of mistyping 27.9 as 279, we cannot confirm this, so let's remove this entry."
   ]
  },
  {
   "cell_type": "code",
   "execution_count": 32,
   "metadata": {},
   "outputs": [],
   "source": [
    "df1.drop(df1[df1.Age > 150].index, inplace=True)"
   ]
  },
  {
   "cell_type": "markdown",
   "metadata": {},
   "source": [
    "This does not give us much insight because age groups are not evenly distributed in our population. Let's discover more using some profiling technique."
   ]
  },
  {
   "cell_type": "code",
   "execution_count": 36,
   "metadata": {},
   "outputs": [],
   "source": [
    "df1.drop(df1[df1.Age < 10].index, inplace=True)"
   ]
  },
  {
   "cell_type": "markdown",
   "metadata": {},
   "source": [
    "We can create bins to get an idea of the number of languages that people from each age group have learnt. Let's put them in 5 year age groups."
   ]
  },
  {
   "cell_type": "code",
   "execution_count": 52,
   "metadata": {},
   "outputs": [
    {
     "data": {
      "text/plain": [
       "[Interval(10, 15, closed='right'),\n",
       " Interval(15, 20, closed='right'),\n",
       " Interval(20, 25, closed='right'),\n",
       " Interval(25, 30, closed='right'),\n",
       " Interval(30, 35, closed='right'),\n",
       " Interval(35, 40, closed='right'),\n",
       " Interval(40, 45, closed='right'),\n",
       " Interval(45, 50, closed='right'),\n",
       " Interval(50, 55, closed='right'),\n",
       " Interval(55, 60, closed='right'),\n",
       " Interval(60, 65, closed='right'),\n",
       " Interval(65, 70, closed='right'),\n",
       " Interval(70, 75, closed='right'),\n",
       " Interval(75, 80, closed='right'),\n",
       " Interval(80, 85, closed='right'),\n",
       " Interval(85, 90, closed='right'),\n",
       " Interval(90, 95, closed='right')]"
      ]
     },
     "execution_count": 52,
     "metadata": {},
     "output_type": "execute_result"
    }
   ],
   "source": [
    "df1[['Age', 'NumLang']].groupby(pd.cut(df1['Age'], np.arange(10, 100, 5))).mean().index.to_list()"
   ]
  },
  {
   "cell_type": "code",
   "execution_count": 60,
   "metadata": {},
   "outputs": [
    {
     "data": {
      "text/plain": [
       "['10 to 15',\n",
       " '15 to 20',\n",
       " '20 to 25',\n",
       " '25 to 30',\n",
       " '30 to 35',\n",
       " '35 to 40',\n",
       " '40 to 45',\n",
       " '45 to 50',\n",
       " '50 to 55',\n",
       " '55 to 60',\n",
       " '60 to 65',\n",
       " '65 to 70',\n",
       " '70 to 75',\n",
       " '75 to 80',\n",
       " '80 to 85',\n",
       " '85 to 90',\n",
       " '90 to 95']"
      ]
     },
     "execution_count": 60,
     "metadata": {},
     "output_type": "execute_result"
    }
   ],
   "source": [
    "my_ind = []\n",
    "for j in range(10,95,5):\n",
    "    my_ind.append('{} to {}'.format(j,j+5))"
   ]
  },
  {
   "cell_type": "code",
   "execution_count": 56,
   "metadata": {},
   "outputs": [],
   "source": [
    "summary_df = df1[['Age', 'NumLang']].groupby(pd.cut(df1['Age'], np.arange(10, 100, 5))).mean()"
   ]
  },
  {
   "cell_type": "code",
   "execution_count": 93,
   "metadata": {},
   "outputs": [
    {
     "data": {
      "image/png": "[encoded data removed]",
      "text/plain": [
       "<Figure size 1080x720 with 1 Axes>"
      ]
     },
     "metadata": {
      "needs_background": "light"
     },
     "output_type": "display_data"
    }
   ],
   "source": [
    "plt.figure(figsize=(15,10))\n",
    "plt.plot(my_ind, summary_df['NumLang'], color='purple', linewidth=4)\n",
    "plt.xlabel('Age group', fontsize=16)\n",
    "plt.ylabel('Mean', fontsize=16)\n",
    "plt.xticks(rotation=45, fontsize=14, ha='right')\n",
    "plt.yticks(fontsize=14)\n",
    "plt.ylim(2,6)\n",
    "plt.title('Number of languages worked with against age', fontsize=22)\n",
    "plt.show()"
   ]
  },
  {
   "cell_type": "markdown",
   "metadata": {},
   "source": [
    "### Analysis\n",
    "We see that the number of language learned does not increase with age. Young people might be able to learn more languages in a shorter time!"
   ]
  },
  {
   "cell_type": "markdown",
   "metadata": {},
   "source": [
    "---\n",
    "## Question 2\n",
    "Proportion of visit and participate, and the relationship to JobSatisfaction\n",
    "\n",
    "---"
   ]
  },
  {
   "cell_type": "code",
   "execution_count": 83,
   "metadata": {},
   "outputs": [
    {
     "data": {
      "text/plain": [
       "7491"
      ]
     },
     "execution_count": 83,
     "metadata": {},
     "output_type": "execute_result"
    }
   ],
   "source": [
    "df['SOVisitFreq'].isna().sum()"
   ]
  },
  {
   "cell_type": "code",
   "execution_count": 84,
   "metadata": {},
   "outputs": [
    {
     "data": {
      "text/plain": [
       "17669"
      ]
     },
     "execution_count": 84,
     "metadata": {},
     "output_type": "execute_result"
    }
   ],
   "source": [
    "df['SOPartFreq'].isna().sum()"
   ]
  },
  {
   "cell_type": "code",
   "execution_count": 87,
   "metadata": {},
   "outputs": [],
   "source": [
    "df2 = df.dropna(subset=['SOVisitFreq', 'SOPartFreq'], how='any')"
   ]
  },
  {
   "cell_type": "code",
   "execution_count": 88,
   "metadata": {},
   "outputs": [
    {
     "data": {
      "text/plain": [
       "{'A few times per month or weekly',\n",
       " 'A few times per week',\n",
       " 'Daily or almost daily',\n",
       " 'I have never participated in Q&A on Stack Overflow',\n",
       " 'Less than once per month or monthly',\n",
       " 'Multiple times per day'}"
      ]
     },
     "execution_count": 88,
     "metadata": {},
     "output_type": "execute_result"
    }
   ],
   "source": [
    "set(df2['SOPartFreq'])"
   ]
  },
  {
   "cell_type": "code",
   "execution_count": 89,
   "metadata": {},
   "outputs": [
    {
     "data": {
      "text/plain": [
       "{'A few times per month or weekly',\n",
       " 'A few times per week',\n",
       " 'Daily or almost daily',\n",
       " 'Less than once per month or monthly',\n",
       " 'Multiple times per day'}"
      ]
     },
     "execution_count": 89,
     "metadata": {},
     "output_type": "execute_result"
    }
   ],
   "source": [
    "set(df2['SOVisitFreq'])"
   ]
  },
  {
   "cell_type": "code",
   "execution_count": 98,
   "metadata": {},
   "outputs": [
    {
     "data": {
      "image/png": "[encoded data removed]",
      "text/plain": [
       "<Figure size 432x288 with 1 Axes>"
      ]
     },
     "metadata": {
      "needs_background": "light"
     },
     "output_type": "display_data"
    }
   ],
   "source": [
    "ordered = ['Less than once per month or monthly',\n",
    "           'A few times per month or weekly', \n",
    "           'A few times per week',\n",
    "           'Daily or almost daily',\n",
    "           'Multiple times per day']\n",
    "sns.countplot(df2['SOVisitFreq'],order=ordered)\n",
    "plt.xticks(rotation=45, ha='right')\n",
    "plt.show()"
   ]
  },
  {
   "cell_type": "code",
   "execution_count": 95,
   "metadata": {},
   "outputs": [
    {
     "data": {
      "image/png": "[encoded data removed]",
      "text/plain": [
       "<Figure size 432x288 with 1 Axes>"
      ]
     },
     "metadata": {
      "needs_background": "light"
     },
     "output_type": "display_data"
    }
   ],
   "source": [
    "ordered = ['I have never participated in Q&A on Stack Overflow',\n",
    "           'Less than once per month or monthly',\n",
    "           'A few times per month or weekly', \n",
    "           'A few times per week',\n",
    "           'Daily or almost daily',\n",
    "           'Multiple times per day']\n",
    "sns.countplot(df2['SOPartFreq'], order=ordered)\n",
    "plt.xticks(rotation=45, ha='right')\n",
    "plt.show()"
   ]
  },
  {
   "cell_type": "markdown",
   "metadata": {},
   "source": [
    "### Analysis\n",
    "These seem to be helpful charts. However, we are unable to associate one to the other, because we have not tracked people's responses to the survey from the \"visit\" field to the \"participation\" field. There might be some people who visit daily but never participate, etc. With a stacked bar chart we might gain more insights!"
   ]
  },
  {
   "cell_type": "code",
   "execution_count": null,
   "metadata": {},
   "outputs": [],
   "source": [
    "df_part_visit = df2.groupby(['SOPartFreq', 'SOVisitFreq']).size().reset_index().pivot(columns='SOPartFreq', index='SOVisitFreq', values=0).loc[ordered]"
   ]
  },
  {
   "cell_type": "code",
   "execution_count": 112,
   "metadata": {},
   "outputs": [
    {
     "data": {
      "image/png": "[encoded data removed]",
      "text/plain": [
       "<Figure size 1080x720 with 1 Axes>"
      ]
     },
     "metadata": {
      "needs_background": "light"
     },
     "output_type": "display_data"
    }
   ],
   "source": [
    "df_part_visit.plot(kind='bar', stacked=True, figsize=(15,10))\n",
    "plt.show()"
   ]
  },
  {
   "cell_type": "code",
   "execution_count": 109,
   "metadata": {},
   "outputs": [
    {
     "data": {
      "text/html": [
       "<div>\n",
       "<style scoped>\n",
       "    .dataframe tbody tr th:only-of-type {\n",
       "        vertical-align: middle;\n",
       "    }\n",
       "\n",
       "    .dataframe tbody tr th {\n",
       "        vertical-align: top;\n",
       "    }\n",
       "\n",
       "    .dataframe thead th {\n",
       "        text-align: right;\n",
       "    }\n",
       "</style>\n",
       "<table border=\"1\" class=\"dataframe\">\n",
       "  <thead>\n",
       "    <tr style=\"text-align: right;\">\n",
       "      <th>SOPartFreq</th>\n",
       "      <th>A few times per month or weekly</th>\n",
       "      <th>A few times per week</th>\n",
       "      <th>Daily or almost daily</th>\n",
       "      <th>I have never participated in Q&amp;A on Stack Overflow</th>\n",
       "      <th>Less than once per month or monthly</th>\n",
       "      <th>Multiple times per day</th>\n",
       "    </tr>\n",
       "    <tr>\n",
       "      <th>SOVisitFreq</th>\n",
       "      <th></th>\n",
       "      <th></th>\n",
       "      <th></th>\n",
       "      <th></th>\n",
       "      <th></th>\n",
       "      <th></th>\n",
       "    </tr>\n",
       "  </thead>\n",
       "  <tbody>\n",
       "    <tr>\n",
       "      <th>Less than once per month or monthly</th>\n",
       "      <td>39.0</td>\n",
       "      <td>10.0</td>\n",
       "      <td>1.0</td>\n",
       "      <td>423.0</td>\n",
       "      <td>746.0</td>\n",
       "      <td>NaN</td>\n",
       "    </tr>\n",
       "    <tr>\n",
       "      <th>A few times per month or weekly</th>\n",
       "      <td>803.0</td>\n",
       "      <td>42.0</td>\n",
       "      <td>11.0</td>\n",
       "      <td>1708.0</td>\n",
       "      <td>3474.0</td>\n",
       "      <td>3.0</td>\n",
       "    </tr>\n",
       "    <tr>\n",
       "      <th>A few times per week</th>\n",
       "      <td>1905.0</td>\n",
       "      <td>702.0</td>\n",
       "      <td>35.0</td>\n",
       "      <td>2651.0</td>\n",
       "      <td>5378.0</td>\n",
       "      <td>10.0</td>\n",
       "    </tr>\n",
       "    <tr>\n",
       "      <th>Daily or almost daily</th>\n",
       "      <td>2957.0</td>\n",
       "      <td>1669.0</td>\n",
       "      <td>763.0</td>\n",
       "      <td>3057.0</td>\n",
       "      <td>6063.0</td>\n",
       "      <td>65.0</td>\n",
       "    </tr>\n",
       "    <tr>\n",
       "      <th>Multiple times per day</th>\n",
       "      <td>2611.0</td>\n",
       "      <td>1767.0</td>\n",
       "      <td>1388.0</td>\n",
       "      <td>2574.0</td>\n",
       "      <td>4754.0</td>\n",
       "      <td>1145.0</td>\n",
       "    </tr>\n",
       "  </tbody>\n",
       "</table>\n",
       "</div>"
      ],
      "text/plain": [
       "SOPartFreq                           A few times per month or weekly  \\\n",
       "SOVisitFreq                                                            \n",
       "Less than once per month or monthly                             39.0   \n",
       "A few times per month or weekly                                803.0   \n",
       "A few times per week                                          1905.0   \n",
       "Daily or almost daily                                         2957.0   \n",
       "Multiple times per day                                        2611.0   \n",
       "\n",
       "SOPartFreq                           A few times per week  \\\n",
       "SOVisitFreq                                                 \n",
       "Less than once per month or monthly                  10.0   \n",
       "A few times per month or weekly                      42.0   \n",
       "A few times per week                                702.0   \n",
       "Daily or almost daily                              1669.0   \n",
       "Multiple times per day                             1767.0   \n",
       "\n",
       "SOPartFreq                           Daily or almost daily  \\\n",
       "SOVisitFreq                                                  \n",
       "Less than once per month or monthly                    1.0   \n",
       "A few times per month or weekly                       11.0   \n",
       "A few times per week                                  35.0   \n",
       "Daily or almost daily                                763.0   \n",
       "Multiple times per day                              1388.0   \n",
       "\n",
       "SOPartFreq                           I have never participated in Q&A on Stack Overflow  \\\n",
       "SOVisitFreq                                                                               \n",
       "Less than once per month or monthly                                              423.0    \n",
       "A few times per month or weekly                                                 1708.0    \n",
       "A few times per week                                                            2651.0    \n",
       "Daily or almost daily                                                           3057.0    \n",
       "Multiple times per day                                                          2574.0    \n",
       "\n",
       "SOPartFreq                           Less than once per month or monthly  \\\n",
       "SOVisitFreq                                                                \n",
       "Less than once per month or monthly                                746.0   \n",
       "A few times per month or weekly                                   3474.0   \n",
       "A few times per week                                              5378.0   \n",
       "Daily or almost daily                                             6063.0   \n",
       "Multiple times per day                                            4754.0   \n",
       "\n",
       "SOPartFreq                           Multiple times per day  \n",
       "SOVisitFreq                                                  \n",
       "Less than once per month or monthly                     NaN  \n",
       "A few times per month or weekly                         3.0  \n",
       "A few times per week                                   10.0  \n",
       "Daily or almost daily                                  65.0  \n",
       "Multiple times per day                               1145.0  "
      ]
     },
     "execution_count": 109,
     "metadata": {},
     "output_type": "execute_result"
    }
   ],
   "source": [
    "df_part_visit"
   ]
  },
  {
   "cell_type": "code",
   "execution_count": 111,
   "metadata": {},
   "outputs": [],
   "source": [
    "ordered = ['I have never participated in Q&A on Stack Overflow',\n",
    "           'Less than once per month or monthly',\n",
    "           'A few times per month or weekly', \n",
    "           'A few times per week',\n",
    "           'Daily or almost daily',\n",
    "           'Multiple times per day']\n",
    "df_part_visit = df_part_visit.reindex(columns=ordered)"
   ]
  },
  {
   "cell_type": "markdown",
   "metadata": {},
   "source": [
    "### Analysis\n",
    "We can see that with more visits, people generally participate more in the discussions!"
   ]
  },
  {
   "cell_type": "markdown",
   "metadata": {},
   "source": [
    "---\n",
    "## Question 3\n",
    "People's option when stuck on problem? Any insights that we get from the survey results on the optimal problem-solving approach?\n",
    "\n",
    "---"
   ]
  },
  {
   "cell_type": "markdown",
   "metadata": {},
   "source": [
    "First, let's see what the options are for this question of \"what do you do when stuck on a problem\"."
   ]
  },
  {
   "cell_type": "code",
   "execution_count": 114,
   "metadata": {
    "collapsed": true
   },
   "outputs": [
    {
     "data": {
      "text/plain": [
       "{'Call a coworker or friend',\n",
       " 'Call a coworker or friend;Do other work and come back later',\n",
       " 'Call a coworker or friend;Do other work and come back later;Visit another developer community (please name):',\n",
       " 'Call a coworker or friend;Go for a walk or other physical activity',\n",
       " 'Call a coworker or friend;Go for a walk or other physical activity;Do other work and come back later',\n",
       " 'Call a coworker or friend;Go for a walk or other physical activity;Do other work and come back later;Visit another developer community (please name):',\n",
       " 'Call a coworker or friend;Go for a walk or other physical activity;Panic',\n",
       " 'Call a coworker or friend;Go for a walk or other physical activity;Panic;Do other work and come back later',\n",
       " 'Call a coworker or friend;Go for a walk or other physical activity;Panic;Do other work and come back later;Visit another developer community (please name):',\n",
       " 'Call a coworker or friend;Go for a walk or other physical activity;Panic;Watch help / tutorial videos',\n",
       " 'Call a coworker or friend;Go for a walk or other physical activity;Panic;Watch help / tutorial videos;Do other work and come back later',\n",
       " 'Call a coworker or friend;Go for a walk or other physical activity;Panic;Watch help / tutorial videos;Do other work and come back later;Visit another developer community (please name):',\n",
       " 'Call a coworker or friend;Go for a walk or other physical activity;Panic;Watch help / tutorial videos;Visit another developer community (please name):',\n",
       " 'Call a coworker or friend;Go for a walk or other physical activity;Visit another developer community (please name):',\n",
       " 'Call a coworker or friend;Go for a walk or other physical activity;Watch help / tutorial videos',\n",
       " 'Call a coworker or friend;Go for a walk or other physical activity;Watch help / tutorial videos;Do other work and come back later',\n",
       " 'Call a coworker or friend;Go for a walk or other physical activity;Watch help / tutorial videos;Do other work and come back later;Visit another developer community (please name):',\n",
       " 'Call a coworker or friend;Go for a walk or other physical activity;Watch help / tutorial videos;Visit another developer community (please name):',\n",
       " 'Call a coworker or friend;Panic',\n",
       " 'Call a coworker or friend;Panic;Do other work and come back later',\n",
       " 'Call a coworker or friend;Panic;Visit another developer community (please name):',\n",
       " 'Call a coworker or friend;Panic;Watch help / tutorial videos',\n",
       " 'Call a coworker or friend;Panic;Watch help / tutorial videos;Do other work and come back later',\n",
       " 'Call a coworker or friend;Panic;Watch help / tutorial videos;Visit another developer community (please name):',\n",
       " 'Call a coworker or friend;Visit Stack Overflow',\n",
       " 'Call a coworker or friend;Visit Stack Overflow;Do other work and come back later',\n",
       " 'Call a coworker or friend;Visit Stack Overflow;Do other work and come back later;Visit another developer community (please name):',\n",
       " 'Call a coworker or friend;Visit Stack Overflow;Go for a walk or other physical activity',\n",
       " 'Call a coworker or friend;Visit Stack Overflow;Go for a walk or other physical activity;Do other work and come back later',\n",
       " 'Call a coworker or friend;Visit Stack Overflow;Go for a walk or other physical activity;Do other work and come back later;Visit another developer community (please name):',\n",
       " 'Call a coworker or friend;Visit Stack Overflow;Go for a walk or other physical activity;Panic',\n",
       " 'Call a coworker or friend;Visit Stack Overflow;Go for a walk or other physical activity;Panic;Do other work and come back later',\n",
       " 'Call a coworker or friend;Visit Stack Overflow;Go for a walk or other physical activity;Panic;Do other work and come back later;Visit another developer community (please name):',\n",
       " 'Call a coworker or friend;Visit Stack Overflow;Go for a walk or other physical activity;Panic;Visit another developer community (please name):',\n",
       " 'Call a coworker or friend;Visit Stack Overflow;Go for a walk or other physical activity;Panic;Watch help / tutorial videos',\n",
       " 'Call a coworker or friend;Visit Stack Overflow;Go for a walk or other physical activity;Panic;Watch help / tutorial videos;Do other work and come back later',\n",
       " 'Call a coworker or friend;Visit Stack Overflow;Go for a walk or other physical activity;Panic;Watch help / tutorial videos;Do other work and come back later;Visit another developer community (please name):',\n",
       " 'Call a coworker or friend;Visit Stack Overflow;Go for a walk or other physical activity;Panic;Watch help / tutorial videos;Visit another developer community (please name):',\n",
       " 'Call a coworker or friend;Visit Stack Overflow;Go for a walk or other physical activity;Visit another developer community (please name):',\n",
       " 'Call a coworker or friend;Visit Stack Overflow;Go for a walk or other physical activity;Watch help / tutorial videos',\n",
       " 'Call a coworker or friend;Visit Stack Overflow;Go for a walk or other physical activity;Watch help / tutorial videos;Do other work and come back later',\n",
       " 'Call a coworker or friend;Visit Stack Overflow;Go for a walk or other physical activity;Watch help / tutorial videos;Do other work and come back later;Visit another developer community (please name):',\n",
       " 'Call a coworker or friend;Visit Stack Overflow;Go for a walk or other physical activity;Watch help / tutorial videos;Visit another developer community (please name):',\n",
       " 'Call a coworker or friend;Visit Stack Overflow;Panic',\n",
       " 'Call a coworker or friend;Visit Stack Overflow;Panic;Do other work and come back later',\n",
       " 'Call a coworker or friend;Visit Stack Overflow;Panic;Do other work and come back later;Visit another developer community (please name):',\n",
       " 'Call a coworker or friend;Visit Stack Overflow;Panic;Visit another developer community (please name):',\n",
       " 'Call a coworker or friend;Visit Stack Overflow;Panic;Watch help / tutorial videos',\n",
       " 'Call a coworker or friend;Visit Stack Overflow;Panic;Watch help / tutorial videos;Do other work and come back later',\n",
       " 'Call a coworker or friend;Visit Stack Overflow;Panic;Watch help / tutorial videos;Do other work and come back later;Visit another developer community (please name):',\n",
       " 'Call a coworker or friend;Visit Stack Overflow;Panic;Watch help / tutorial videos;Visit another developer community (please name):',\n",
       " 'Call a coworker or friend;Visit Stack Overflow;Visit another developer community (please name):',\n",
       " 'Call a coworker or friend;Visit Stack Overflow;Watch help / tutorial videos',\n",
       " 'Call a coworker or friend;Visit Stack Overflow;Watch help / tutorial videos;Do other work and come back later',\n",
       " 'Call a coworker or friend;Visit Stack Overflow;Watch help / tutorial videos;Do other work and come back later;Visit another developer community (please name):',\n",
       " 'Call a coworker or friend;Visit Stack Overflow;Watch help / tutorial videos;Visit another developer community (please name):',\n",
       " 'Call a coworker or friend;Visit another developer community (please name):',\n",
       " 'Call a coworker or friend;Watch help / tutorial videos',\n",
       " 'Call a coworker or friend;Watch help / tutorial videos;Do other work and come back later',\n",
       " 'Call a coworker or friend;Watch help / tutorial videos;Do other work and come back later;Visit another developer community (please name):',\n",
       " 'Call a coworker or friend;Watch help / tutorial videos;Visit another developer community (please name):',\n",
       " 'Do other work and come back later',\n",
       " 'Do other work and come back later;Visit another developer community (please name):',\n",
       " 'Go for a walk or other physical activity',\n",
       " 'Go for a walk or other physical activity;Do other work and come back later',\n",
       " 'Go for a walk or other physical activity;Do other work and come back later;Visit another developer community (please name):',\n",
       " 'Go for a walk or other physical activity;Panic',\n",
       " 'Go for a walk or other physical activity;Panic;Do other work and come back later',\n",
       " 'Go for a walk or other physical activity;Panic;Do other work and come back later;Visit another developer community (please name):',\n",
       " 'Go for a walk or other physical activity;Panic;Visit another developer community (please name):',\n",
       " 'Go for a walk or other physical activity;Panic;Watch help / tutorial videos',\n",
       " 'Go for a walk or other physical activity;Panic;Watch help / tutorial videos;Do other work and come back later',\n",
       " 'Go for a walk or other physical activity;Panic;Watch help / tutorial videos;Do other work and come back later;Visit another developer community (please name):',\n",
       " 'Go for a walk or other physical activity;Panic;Watch help / tutorial videos;Visit another developer community (please name):',\n",
       " 'Go for a walk or other physical activity;Visit another developer community (please name):',\n",
       " 'Go for a walk or other physical activity;Watch help / tutorial videos',\n",
       " 'Go for a walk or other physical activity;Watch help / tutorial videos;Do other work and come back later',\n",
       " 'Go for a walk or other physical activity;Watch help / tutorial videos;Do other work and come back later;Visit another developer community (please name):',\n",
       " 'Go for a walk or other physical activity;Watch help / tutorial videos;Visit another developer community (please name):',\n",
       " 'Meditate',\n",
       " 'Meditate;Call a coworker or friend',\n",
       " 'Meditate;Call a coworker or friend;Do other work and come back later',\n",
       " 'Meditate;Call a coworker or friend;Go for a walk or other physical activity',\n",
       " 'Meditate;Call a coworker or friend;Go for a walk or other physical activity;Do other work and come back later',\n",
       " 'Meditate;Call a coworker or friend;Go for a walk or other physical activity;Do other work and come back later;Visit another developer community (please name):',\n",
       " 'Meditate;Call a coworker or friend;Go for a walk or other physical activity;Panic',\n",
       " 'Meditate;Call a coworker or friend;Go for a walk or other physical activity;Panic;Do other work and come back later',\n",
       " 'Meditate;Call a coworker or friend;Go for a walk or other physical activity;Panic;Visit another developer community (please name):',\n",
       " 'Meditate;Call a coworker or friend;Go for a walk or other physical activity;Panic;Watch help / tutorial videos',\n",
       " 'Meditate;Call a coworker or friend;Go for a walk or other physical activity;Panic;Watch help / tutorial videos;Do other work and come back later',\n",
       " 'Meditate;Call a coworker or friend;Go for a walk or other physical activity;Watch help / tutorial videos',\n",
       " 'Meditate;Call a coworker or friend;Go for a walk or other physical activity;Watch help / tutorial videos;Do other work and come back later',\n",
       " 'Meditate;Call a coworker or friend;Go for a walk or other physical activity;Watch help / tutorial videos;Visit another developer community (please name):',\n",
       " 'Meditate;Call a coworker or friend;Panic',\n",
       " 'Meditate;Call a coworker or friend;Panic;Do other work and come back later',\n",
       " 'Meditate;Call a coworker or friend;Panic;Watch help / tutorial videos',\n",
       " 'Meditate;Call a coworker or friend;Visit Stack Overflow',\n",
       " 'Meditate;Call a coworker or friend;Visit Stack Overflow;Do other work and come back later',\n",
       " 'Meditate;Call a coworker or friend;Visit Stack Overflow;Do other work and come back later;Visit another developer community (please name):',\n",
       " 'Meditate;Call a coworker or friend;Visit Stack Overflow;Go for a walk or other physical activity',\n",
       " 'Meditate;Call a coworker or friend;Visit Stack Overflow;Go for a walk or other physical activity;Do other work and come back later',\n",
       " 'Meditate;Call a coworker or friend;Visit Stack Overflow;Go for a walk or other physical activity;Do other work and come back later;Visit another developer community (please name):',\n",
       " 'Meditate;Call a coworker or friend;Visit Stack Overflow;Go for a walk or other physical activity;Panic',\n",
       " 'Meditate;Call a coworker or friend;Visit Stack Overflow;Go for a walk or other physical activity;Panic;Do other work and come back later',\n",
       " 'Meditate;Call a coworker or friend;Visit Stack Overflow;Go for a walk or other physical activity;Panic;Do other work and come back later;Visit another developer community (please name):',\n",
       " 'Meditate;Call a coworker or friend;Visit Stack Overflow;Go for a walk or other physical activity;Panic;Watch help / tutorial videos',\n",
       " 'Meditate;Call a coworker or friend;Visit Stack Overflow;Go for a walk or other physical activity;Panic;Watch help / tutorial videos;Do other work and come back later',\n",
       " 'Meditate;Call a coworker or friend;Visit Stack Overflow;Go for a walk or other physical activity;Panic;Watch help / tutorial videos;Do other work and come back later;Visit another developer community (please name):',\n",
       " 'Meditate;Call a coworker or friend;Visit Stack Overflow;Go for a walk or other physical activity;Panic;Watch help / tutorial videos;Visit another developer community (please name):',\n",
       " 'Meditate;Call a coworker or friend;Visit Stack Overflow;Go for a walk or other physical activity;Visit another developer community (please name):',\n",
       " 'Meditate;Call a coworker or friend;Visit Stack Overflow;Go for a walk or other physical activity;Watch help / tutorial videos',\n",
       " 'Meditate;Call a coworker or friend;Visit Stack Overflow;Go for a walk or other physical activity;Watch help / tutorial videos;Do other work and come back later',\n",
       " 'Meditate;Call a coworker or friend;Visit Stack Overflow;Go for a walk or other physical activity;Watch help / tutorial videos;Do other work and come back later;Visit another developer community (please name):',\n",
       " 'Meditate;Call a coworker or friend;Visit Stack Overflow;Go for a walk or other physical activity;Watch help / tutorial videos;Visit another developer community (please name):',\n",
       " 'Meditate;Call a coworker or friend;Visit Stack Overflow;Panic',\n",
       " 'Meditate;Call a coworker or friend;Visit Stack Overflow;Panic;Do other work and come back later',\n",
       " 'Meditate;Call a coworker or friend;Visit Stack Overflow;Panic;Do other work and come back later;Visit another developer community (please name):',\n",
       " 'Meditate;Call a coworker or friend;Visit Stack Overflow;Panic;Visit another developer community (please name):',\n",
       " 'Meditate;Call a coworker or friend;Visit Stack Overflow;Panic;Watch help / tutorial videos',\n",
       " 'Meditate;Call a coworker or friend;Visit Stack Overflow;Panic;Watch help / tutorial videos;Do other work and come back later',\n",
       " 'Meditate;Call a coworker or friend;Visit Stack Overflow;Panic;Watch help / tutorial videos;Do other work and come back later;Visit another developer community (please name):',\n",
       " 'Meditate;Call a coworker or friend;Visit Stack Overflow;Panic;Watch help / tutorial videos;Visit another developer community (please name):',\n",
       " 'Meditate;Call a coworker or friend;Visit Stack Overflow;Visit another developer community (please name):',\n",
       " 'Meditate;Call a coworker or friend;Visit Stack Overflow;Watch help / tutorial videos',\n",
       " 'Meditate;Call a coworker or friend;Visit Stack Overflow;Watch help / tutorial videos;Do other work and come back later',\n",
       " 'Meditate;Call a coworker or friend;Visit Stack Overflow;Watch help / tutorial videos;Do other work and come back later;Visit another developer community (please name):',\n",
       " 'Meditate;Call a coworker or friend;Visit Stack Overflow;Watch help / tutorial videos;Visit another developer community (please name):',\n",
       " 'Meditate;Call a coworker or friend;Visit another developer community (please name):',\n",
       " 'Meditate;Call a coworker or friend;Watch help / tutorial videos',\n",
       " 'Meditate;Call a coworker or friend;Watch help / tutorial videos;Do other work and come back later',\n",
       " 'Meditate;Call a coworker or friend;Watch help / tutorial videos;Do other work and come back later;Visit another developer community (please name):',\n",
       " 'Meditate;Call a coworker or friend;Watch help / tutorial videos;Visit another developer community (please name):',\n",
       " 'Meditate;Do other work and come back later',\n",
       " 'Meditate;Do other work and come back later;Visit another developer community (please name):',\n",
       " 'Meditate;Go for a walk or other physical activity',\n",
       " 'Meditate;Go for a walk or other physical activity;Do other work and come back later',\n",
       " 'Meditate;Go for a walk or other physical activity;Do other work and come back later;Visit another developer community (please name):',\n",
       " 'Meditate;Go for a walk or other physical activity;Panic',\n",
       " 'Meditate;Go for a walk or other physical activity;Panic;Do other work and come back later',\n",
       " 'Meditate;Go for a walk or other physical activity;Panic;Watch help / tutorial videos',\n",
       " 'Meditate;Go for a walk or other physical activity;Panic;Watch help / tutorial videos;Do other work and come back later',\n",
       " 'Meditate;Go for a walk or other physical activity;Watch help / tutorial videos',\n",
       " 'Meditate;Go for a walk or other physical activity;Watch help / tutorial videos;Do other work and come back later',\n",
       " 'Meditate;Go for a walk or other physical activity;Watch help / tutorial videos;Do other work and come back later;Visit another developer community (please name):',\n",
       " 'Meditate;Go for a walk or other physical activity;Watch help / tutorial videos;Visit another developer community (please name):',\n",
       " 'Meditate;Panic',\n",
       " 'Meditate;Panic;Do other work and come back later',\n",
       " 'Meditate;Panic;Do other work and come back later;Visit another developer community (please name):',\n",
       " 'Meditate;Panic;Watch help / tutorial videos;Do other work and come back later',\n",
       " 'Meditate;Panic;Watch help / tutorial videos;Visit another developer community (please name):',\n",
       " 'Meditate;Play games',\n",
       " 'Meditate;Play games;Call a coworker or friend',\n",
       " 'Meditate;Play games;Call a coworker or friend;Do other work and come back later',\n",
       " 'Meditate;Play games;Call a coworker or friend;Go for a walk or other physical activity',\n",
       " 'Meditate;Play games;Call a coworker or friend;Go for a walk or other physical activity;Do other work and come back later',\n",
       " 'Meditate;Play games;Call a coworker or friend;Go for a walk or other physical activity;Do other work and come back later;Visit another developer community (please name):',\n",
       " 'Meditate;Play games;Call a coworker or friend;Go for a walk or other physical activity;Panic;Do other work and come back later',\n",
       " 'Meditate;Play games;Call a coworker or friend;Go for a walk or other physical activity;Panic;Watch help / tutorial videos',\n",
       " 'Meditate;Play games;Call a coworker or friend;Go for a walk or other physical activity;Panic;Watch help / tutorial videos;Do other work and come back later',\n",
       " 'Meditate;Play games;Call a coworker or friend;Go for a walk or other physical activity;Panic;Watch help / tutorial videos;Do other work and come back later;Visit another developer community (please name):',\n",
       " 'Meditate;Play games;Call a coworker or friend;Go for a walk or other physical activity;Watch help / tutorial videos',\n",
       " 'Meditate;Play games;Call a coworker or friend;Go for a walk or other physical activity;Watch help / tutorial videos;Do other work and come back later',\n",
       " 'Meditate;Play games;Call a coworker or friend;Go for a walk or other physical activity;Watch help / tutorial videos;Do other work and come back later;Visit another developer community (please name):',\n",
       " 'Meditate;Play games;Call a coworker or friend;Go for a walk or other physical activity;Watch help / tutorial videos;Visit another developer community (please name):',\n",
       " 'Meditate;Play games;Call a coworker or friend;Panic;Do other work and come back later',\n",
       " 'Meditate;Play games;Call a coworker or friend;Panic;Watch help / tutorial videos;Do other work and come back later',\n",
       " 'Meditate;Play games;Call a coworker or friend;Visit Stack Overflow',\n",
       " 'Meditate;Play games;Call a coworker or friend;Visit Stack Overflow;Do other work and come back later',\n",
       " 'Meditate;Play games;Call a coworker or friend;Visit Stack Overflow;Do other work and come back later;Visit another developer community (please name):',\n",
       " 'Meditate;Play games;Call a coworker or friend;Visit Stack Overflow;Go for a walk or other physical activity',\n",
       " 'Meditate;Play games;Call a coworker or friend;Visit Stack Overflow;Go for a walk or other physical activity;Do other work and come back later',\n",
       " 'Meditate;Play games;Call a coworker or friend;Visit Stack Overflow;Go for a walk or other physical activity;Do other work and come back later;Visit another developer community (please name):',\n",
       " 'Meditate;Play games;Call a coworker or friend;Visit Stack Overflow;Go for a walk or other physical activity;Panic',\n",
       " 'Meditate;Play games;Call a coworker or friend;Visit Stack Overflow;Go for a walk or other physical activity;Panic;Do other work and come back later',\n",
       " 'Meditate;Play games;Call a coworker or friend;Visit Stack Overflow;Go for a walk or other physical activity;Panic;Do other work and come back later;Visit another developer community (please name):',\n",
       " 'Meditate;Play games;Call a coworker or friend;Visit Stack Overflow;Go for a walk or other physical activity;Panic;Watch help / tutorial videos',\n",
       " 'Meditate;Play games;Call a coworker or friend;Visit Stack Overflow;Go for a walk or other physical activity;Panic;Watch help / tutorial videos;Do other work and come back later',\n",
       " 'Meditate;Play games;Call a coworker or friend;Visit Stack Overflow;Go for a walk or other physical activity;Panic;Watch help / tutorial videos;Do other work and come back later;Visit another developer community (please name):',\n",
       " 'Meditate;Play games;Call a coworker or friend;Visit Stack Overflow;Go for a walk or other physical activity;Panic;Watch help / tutorial videos;Visit another developer community (please name):',\n",
       " 'Meditate;Play games;Call a coworker or friend;Visit Stack Overflow;Go for a walk or other physical activity;Visit another developer community (please name):',\n",
       " 'Meditate;Play games;Call a coworker or friend;Visit Stack Overflow;Go for a walk or other physical activity;Watch help / tutorial videos',\n",
       " 'Meditate;Play games;Call a coworker or friend;Visit Stack Overflow;Go for a walk or other physical activity;Watch help / tutorial videos;Do other work and come back later',\n",
       " 'Meditate;Play games;Call a coworker or friend;Visit Stack Overflow;Go for a walk or other physical activity;Watch help / tutorial videos;Do other work and come back later;Visit another developer community (please name):',\n",
       " 'Meditate;Play games;Call a coworker or friend;Visit Stack Overflow;Go for a walk or other physical activity;Watch help / tutorial videos;Visit another developer community (please name):',\n",
       " 'Meditate;Play games;Call a coworker or friend;Visit Stack Overflow;Panic',\n",
       " 'Meditate;Play games;Call a coworker or friend;Visit Stack Overflow;Panic;Do other work and come back later',\n",
       " 'Meditate;Play games;Call a coworker or friend;Visit Stack Overflow;Panic;Do other work and come back later;Visit another developer community (please name):',\n",
       " 'Meditate;Play games;Call a coworker or friend;Visit Stack Overflow;Panic;Watch help / tutorial videos',\n",
       " 'Meditate;Play games;Call a coworker or friend;Visit Stack Overflow;Panic;Watch help / tutorial videos;Do other work and come back later',\n",
       " 'Meditate;Play games;Call a coworker or friend;Visit Stack Overflow;Panic;Watch help / tutorial videos;Do other work and come back later;Visit another developer community (please name):',\n",
       " 'Meditate;Play games;Call a coworker or friend;Visit Stack Overflow;Panic;Watch help / tutorial videos;Visit another developer community (please name):',\n",
       " 'Meditate;Play games;Call a coworker or friend;Visit Stack Overflow;Visit another developer community (please name):',\n",
       " 'Meditate;Play games;Call a coworker or friend;Visit Stack Overflow;Watch help / tutorial videos',\n",
       " 'Meditate;Play games;Call a coworker or friend;Visit Stack Overflow;Watch help / tutorial videos;Do other work and come back later',\n",
       " 'Meditate;Play games;Call a coworker or friend;Visit Stack Overflow;Watch help / tutorial videos;Do other work and come back later;Visit another developer community (please name):',\n",
       " 'Meditate;Play games;Call a coworker or friend;Visit Stack Overflow;Watch help / tutorial videos;Visit another developer community (please name):',\n",
       " 'Meditate;Play games;Call a coworker or friend;Watch help / tutorial videos',\n",
       " 'Meditate;Play games;Call a coworker or friend;Watch help / tutorial videos;Do other work and come back later',\n",
       " 'Meditate;Play games;Do other work and come back later',\n",
       " 'Meditate;Play games;Do other work and come back later;Visit another developer community (please name):',\n",
       " 'Meditate;Play games;Go for a walk or other physical activity',\n",
       " 'Meditate;Play games;Go for a walk or other physical activity;Do other work and come back later',\n",
       " 'Meditate;Play games;Go for a walk or other physical activity;Do other work and come back later;Visit another developer community (please name):',\n",
       " 'Meditate;Play games;Go for a walk or other physical activity;Panic',\n",
       " 'Meditate;Play games;Go for a walk or other physical activity;Panic;Do other work and come back later',\n",
       " 'Meditate;Play games;Go for a walk or other physical activity;Panic;Do other work and come back later;Visit another developer community (please name):',\n",
       " 'Meditate;Play games;Go for a walk or other physical activity;Panic;Watch help / tutorial videos',\n",
       " 'Meditate;Play games;Go for a walk or other physical activity;Panic;Watch help / tutorial videos;Do other work and come back later',\n",
       " 'Meditate;Play games;Go for a walk or other physical activity;Panic;Watch help / tutorial videos;Do other work and come back later;Visit another developer community (please name):',\n",
       " 'Meditate;Play games;Go for a walk or other physical activity;Visit another developer community (please name):',\n",
       " 'Meditate;Play games;Go for a walk or other physical activity;Watch help / tutorial videos',\n",
       " 'Meditate;Play games;Go for a walk or other physical activity;Watch help / tutorial videos;Do other work and come back later',\n",
       " 'Meditate;Play games;Go for a walk or other physical activity;Watch help / tutorial videos;Do other work and come back later;Visit another developer community (please name):',\n",
       " 'Meditate;Play games;Panic',\n",
       " 'Meditate;Play games;Panic;Do other work and come back later',\n",
       " 'Meditate;Play games;Visit Stack Overflow',\n",
       " 'Meditate;Play games;Visit Stack Overflow;Do other work and come back later',\n",
       " 'Meditate;Play games;Visit Stack Overflow;Do other work and come back later;Visit another developer community (please name):',\n",
       " 'Meditate;Play games;Visit Stack Overflow;Go for a walk or other physical activity',\n",
       " 'Meditate;Play games;Visit Stack Overflow;Go for a walk or other physical activity;Do other work and come back later',\n",
       " 'Meditate;Play games;Visit Stack Overflow;Go for a walk or other physical activity;Do other work and come back later;Visit another developer community (please name):',\n",
       " 'Meditate;Play games;Visit Stack Overflow;Go for a walk or other physical activity;Panic',\n",
       " 'Meditate;Play games;Visit Stack Overflow;Go for a walk or other physical activity;Panic;Do other work and come back later',\n",
       " 'Meditate;Play games;Visit Stack Overflow;Go for a walk or other physical activity;Panic;Do other work and come back later;Visit another developer community (please name):',\n",
       " 'Meditate;Play games;Visit Stack Overflow;Go for a walk or other physical activity;Panic;Visit another developer community (please name):',\n",
       " 'Meditate;Play games;Visit Stack Overflow;Go for a walk or other physical activity;Panic;Watch help / tutorial videos',\n",
       " 'Meditate;Play games;Visit Stack Overflow;Go for a walk or other physical activity;Panic;Watch help / tutorial videos;Do other work and come back later',\n",
       " 'Meditate;Play games;Visit Stack Overflow;Go for a walk or other physical activity;Panic;Watch help / tutorial videos;Do other work and come back later;Visit another developer community (please name):',\n",
       " 'Meditate;Play games;Visit Stack Overflow;Go for a walk or other physical activity;Panic;Watch help / tutorial videos;Visit another developer community (please name):',\n",
       " 'Meditate;Play games;Visit Stack Overflow;Go for a walk or other physical activity;Visit another developer community (please name):',\n",
       " 'Meditate;Play games;Visit Stack Overflow;Go for a walk or other physical activity;Watch help / tutorial videos',\n",
       " 'Meditate;Play games;Visit Stack Overflow;Go for a walk or other physical activity;Watch help / tutorial videos;Do other work and come back later',\n",
       " 'Meditate;Play games;Visit Stack Overflow;Go for a walk or other physical activity;Watch help / tutorial videos;Do other work and come back later;Visit another developer community (please name):',\n",
       " 'Meditate;Play games;Visit Stack Overflow;Go for a walk or other physical activity;Watch help / tutorial videos;Visit another developer community (please name):',\n",
       " 'Meditate;Play games;Visit Stack Overflow;Panic',\n",
       " 'Meditate;Play games;Visit Stack Overflow;Panic;Do other work and come back later',\n",
       " 'Meditate;Play games;Visit Stack Overflow;Panic;Do other work and come back later;Visit another developer community (please name):',\n",
       " 'Meditate;Play games;Visit Stack Overflow;Panic;Visit another developer community (please name):',\n",
       " 'Meditate;Play games;Visit Stack Overflow;Panic;Watch help / tutorial videos',\n",
       " 'Meditate;Play games;Visit Stack Overflow;Panic;Watch help / tutorial videos;Do other work and come back later',\n",
       " 'Meditate;Play games;Visit Stack Overflow;Panic;Watch help / tutorial videos;Do other work and come back later;Visit another developer community (please name):',\n",
       " 'Meditate;Play games;Visit Stack Overflow;Panic;Watch help / tutorial videos;Visit another developer community (please name):',\n",
       " 'Meditate;Play games;Visit Stack Overflow;Visit another developer community (please name):',\n",
       " 'Meditate;Play games;Visit Stack Overflow;Watch help / tutorial videos',\n",
       " 'Meditate;Play games;Visit Stack Overflow;Watch help / tutorial videos;Do other work and come back later',\n",
       " 'Meditate;Play games;Visit Stack Overflow;Watch help / tutorial videos;Do other work and come back later;Visit another developer community (please name):',\n",
       " 'Meditate;Play games;Visit Stack Overflow;Watch help / tutorial videos;Visit another developer community (please name):',\n",
       " 'Meditate;Play games;Visit another developer community (please name):',\n",
       " 'Meditate;Play games;Watch help / tutorial videos',\n",
       " 'Meditate;Play games;Watch help / tutorial videos;Do other work and come back later',\n",
       " 'Meditate;Visit Stack Overflow',\n",
       " 'Meditate;Visit Stack Overflow;Do other work and come back later',\n",
       " 'Meditate;Visit Stack Overflow;Do other work and come back later;Visit another developer community (please name):',\n",
       " 'Meditate;Visit Stack Overflow;Go for a walk or other physical activity',\n",
       " 'Meditate;Visit Stack Overflow;Go for a walk or other physical activity;Do other work and come back later',\n",
       " 'Meditate;Visit Stack Overflow;Go for a walk or other physical activity;Do other work and come back later;Visit another developer community (please name):',\n",
       " 'Meditate;Visit Stack Overflow;Go for a walk or other physical activity;Panic',\n",
       " 'Meditate;Visit Stack Overflow;Go for a walk or other physical activity;Panic;Do other work and come back later',\n",
       " 'Meditate;Visit Stack Overflow;Go for a walk or other physical activity;Panic;Do other work and come back later;Visit another developer community (please name):',\n",
       " 'Meditate;Visit Stack Overflow;Go for a walk or other physical activity;Panic;Watch help / tutorial videos',\n",
       " 'Meditate;Visit Stack Overflow;Go for a walk or other physical activity;Panic;Watch help / tutorial videos;Do other work and come back later',\n",
       " 'Meditate;Visit Stack Overflow;Go for a walk or other physical activity;Panic;Watch help / tutorial videos;Do other work and come back later;Visit another developer community (please name):',\n",
       " 'Meditate;Visit Stack Overflow;Go for a walk or other physical activity;Panic;Watch help / tutorial videos;Visit another developer community (please name):',\n",
       " 'Meditate;Visit Stack Overflow;Go for a walk or other physical activity;Visit another developer community (please name):',\n",
       " 'Meditate;Visit Stack Overflow;Go for a walk or other physical activity;Watch help / tutorial videos',\n",
       " 'Meditate;Visit Stack Overflow;Go for a walk or other physical activity;Watch help / tutorial videos;Do other work and come back later',\n",
       " 'Meditate;Visit Stack Overflow;Go for a walk or other physical activity;Watch help / tutorial videos;Do other work and come back later;Visit another developer community (please name):',\n",
       " 'Meditate;Visit Stack Overflow;Go for a walk or other physical activity;Watch help / tutorial videos;Visit another developer community (please name):',\n",
       " 'Meditate;Visit Stack Overflow;Panic',\n",
       " 'Meditate;Visit Stack Overflow;Panic;Do other work and come back later',\n",
       " 'Meditate;Visit Stack Overflow;Panic;Do other work and come back later;Visit another developer community (please name):',\n",
       " 'Meditate;Visit Stack Overflow;Panic;Visit another developer community (please name):',\n",
       " 'Meditate;Visit Stack Overflow;Panic;Watch help / tutorial videos',\n",
       " 'Meditate;Visit Stack Overflow;Panic;Watch help / tutorial videos;Do other work and come back later',\n",
       " 'Meditate;Visit Stack Overflow;Panic;Watch help / tutorial videos;Do other work and come back later;Visit another developer community (please name):',\n",
       " 'Meditate;Visit Stack Overflow;Panic;Watch help / tutorial videos;Visit another developer community (please name):',\n",
       " 'Meditate;Visit Stack Overflow;Visit another developer community (please name):',\n",
       " 'Meditate;Visit Stack Overflow;Watch help / tutorial videos',\n",
       " 'Meditate;Visit Stack Overflow;Watch help / tutorial videos;Do other work and come back later',\n",
       " 'Meditate;Visit Stack Overflow;Watch help / tutorial videos;Do other work and come back later;Visit another developer community (please name):',\n",
       " 'Meditate;Visit Stack Overflow;Watch help / tutorial videos;Visit another developer community (please name):',\n",
       " 'Meditate;Visit another developer community (please name):',\n",
       " 'Meditate;Watch help / tutorial videos',\n",
       " 'Meditate;Watch help / tutorial videos;Do other work and come back later',\n",
       " 'Meditate;Watch help / tutorial videos;Visit another developer community (please name):',\n",
       " 'Panic',\n",
       " 'Panic;Do other work and come back later',\n",
       " 'Panic;Do other work and come back later;Visit another developer community (please name):',\n",
       " 'Panic;Visit another developer community (please name):',\n",
       " 'Panic;Watch help / tutorial videos',\n",
       " 'Panic;Watch help / tutorial videos;Do other work and come back later',\n",
       " 'Panic;Watch help / tutorial videos;Do other work and come back later;Visit another developer community (please name):',\n",
       " 'Play games',\n",
       " 'Play games;Call a coworker or friend',\n",
       " 'Play games;Call a coworker or friend;Do other work and come back later',\n",
       " 'Play games;Call a coworker or friend;Do other work and come back later;Visit another developer community (please name):',\n",
       " 'Play games;Call a coworker or friend;Go for a walk or other physical activity',\n",
       " 'Play games;Call a coworker or friend;Go for a walk or other physical activity;Do other work and come back later',\n",
       " 'Play games;Call a coworker or friend;Go for a walk or other physical activity;Do other work and come back later;Visit another developer community (please name):',\n",
       " 'Play games;Call a coworker or friend;Go for a walk or other physical activity;Panic',\n",
       " 'Play games;Call a coworker or friend;Go for a walk or other physical activity;Panic;Do other work and come back later',\n",
       " 'Play games;Call a coworker or friend;Go for a walk or other physical activity;Panic;Do other work and come back later;Visit another developer community (please name):',\n",
       " 'Play games;Call a coworker or friend;Go for a walk or other physical activity;Panic;Watch help / tutorial videos',\n",
       " 'Play games;Call a coworker or friend;Go for a walk or other physical activity;Panic;Watch help / tutorial videos;Do other work and come back later',\n",
       " 'Play games;Call a coworker or friend;Go for a walk or other physical activity;Watch help / tutorial videos',\n",
       " 'Play games;Call a coworker or friend;Go for a walk or other physical activity;Watch help / tutorial videos;Do other work and come back later',\n",
       " 'Play games;Call a coworker or friend;Go for a walk or other physical activity;Watch help / tutorial videos;Do other work and come back later;Visit another developer community (please name):',\n",
       " 'Play games;Call a coworker or friend;Go for a walk or other physical activity;Watch help / tutorial videos;Visit another developer community (please name):',\n",
       " 'Play games;Call a coworker or friend;Panic',\n",
       " 'Play games;Call a coworker or friend;Panic;Do other work and come back later',\n",
       " 'Play games;Call a coworker or friend;Panic;Watch help / tutorial videos',\n",
       " 'Play games;Call a coworker or friend;Panic;Watch help / tutorial videos;Do other work and come back later',\n",
       " 'Play games;Call a coworker or friend;Panic;Watch help / tutorial videos;Do other work and come back later;Visit another developer community (please name):',\n",
       " 'Play games;Call a coworker or friend;Visit Stack Overflow',\n",
       " 'Play games;Call a coworker or friend;Visit Stack Overflow;Do other work and come back later',\n",
       " 'Play games;Call a coworker or friend;Visit Stack Overflow;Do other work and come back later;Visit another developer community (please name):',\n",
       " 'Play games;Call a coworker or friend;Visit Stack Overflow;Go for a walk or other physical activity',\n",
       " 'Play games;Call a coworker or friend;Visit Stack Overflow;Go for a walk or other physical activity;Do other work and come back later',\n",
       " 'Play games;Call a coworker or friend;Visit Stack Overflow;Go for a walk or other physical activity;Do other work and come back later;Visit another developer community (please name):',\n",
       " 'Play games;Call a coworker or friend;Visit Stack Overflow;Go for a walk or other physical activity;Panic',\n",
       " 'Play games;Call a coworker or friend;Visit Stack Overflow;Go for a walk or other physical activity;Panic;Do other work and come back later',\n",
       " 'Play games;Call a coworker or friend;Visit Stack Overflow;Go for a walk or other physical activity;Panic;Do other work and come back later;Visit another developer community (please name):',\n",
       " 'Play games;Call a coworker or friend;Visit Stack Overflow;Go for a walk or other physical activity;Panic;Visit another developer community (please name):',\n",
       " 'Play games;Call a coworker or friend;Visit Stack Overflow;Go for a walk or other physical activity;Panic;Watch help / tutorial videos',\n",
       " 'Play games;Call a coworker or friend;Visit Stack Overflow;Go for a walk or other physical activity;Panic;Watch help / tutorial videos;Do other work and come back later',\n",
       " 'Play games;Call a coworker or friend;Visit Stack Overflow;Go for a walk or other physical activity;Panic;Watch help / tutorial videos;Do other work and come back later;Visit another developer community (please name):',\n",
       " 'Play games;Call a coworker or friend;Visit Stack Overflow;Go for a walk or other physical activity;Panic;Watch help / tutorial videos;Visit another developer community (please name):',\n",
       " 'Play games;Call a coworker or friend;Visit Stack Overflow;Go for a walk or other physical activity;Visit another developer community (please name):',\n",
       " 'Play games;Call a coworker or friend;Visit Stack Overflow;Go for a walk or other physical activity;Watch help / tutorial videos',\n",
       " 'Play games;Call a coworker or friend;Visit Stack Overflow;Go for a walk or other physical activity;Watch help / tutorial videos;Do other work and come back later',\n",
       " 'Play games;Call a coworker or friend;Visit Stack Overflow;Go for a walk or other physical activity;Watch help / tutorial videos;Do other work and come back later;Visit another developer community (please name):',\n",
       " 'Play games;Call a coworker or friend;Visit Stack Overflow;Go for a walk or other physical activity;Watch help / tutorial videos;Visit another developer community (please name):',\n",
       " 'Play games;Call a coworker or friend;Visit Stack Overflow;Panic',\n",
       " 'Play games;Call a coworker or friend;Visit Stack Overflow;Panic;Do other work and come back later',\n",
       " 'Play games;Call a coworker or friend;Visit Stack Overflow;Panic;Do other work and come back later;Visit another developer community (please name):',\n",
       " 'Play games;Call a coworker or friend;Visit Stack Overflow;Panic;Visit another developer community (please name):',\n",
       " 'Play games;Call a coworker or friend;Visit Stack Overflow;Panic;Watch help / tutorial videos',\n",
       " 'Play games;Call a coworker or friend;Visit Stack Overflow;Panic;Watch help / tutorial videos;Do other work and come back later',\n",
       " 'Play games;Call a coworker or friend;Visit Stack Overflow;Panic;Watch help / tutorial videos;Do other work and come back later;Visit another developer community (please name):',\n",
       " 'Play games;Call a coworker or friend;Visit Stack Overflow;Panic;Watch help / tutorial videos;Visit another developer community (please name):',\n",
       " 'Play games;Call a coworker or friend;Visit Stack Overflow;Visit another developer community (please name):',\n",
       " 'Play games;Call a coworker or friend;Visit Stack Overflow;Watch help / tutorial videos',\n",
       " 'Play games;Call a coworker or friend;Visit Stack Overflow;Watch help / tutorial videos;Do other work and come back later',\n",
       " 'Play games;Call a coworker or friend;Visit Stack Overflow;Watch help / tutorial videos;Do other work and come back later;Visit another developer community (please name):',\n",
       " 'Play games;Call a coworker or friend;Visit Stack Overflow;Watch help / tutorial videos;Visit another developer community (please name):',\n",
       " 'Play games;Call a coworker or friend;Visit another developer community (please name):',\n",
       " 'Play games;Call a coworker or friend;Watch help / tutorial videos',\n",
       " 'Play games;Call a coworker or friend;Watch help / tutorial videos;Do other work and come back later',\n",
       " 'Play games;Call a coworker or friend;Watch help / tutorial videos;Do other work and come back later;Visit another developer community (please name):',\n",
       " 'Play games;Do other work and come back later',\n",
       " 'Play games;Do other work and come back later;Visit another developer community (please name):',\n",
       " 'Play games;Go for a walk or other physical activity',\n",
       " 'Play games;Go for a walk or other physical activity;Do other work and come back later',\n",
       " 'Play games;Go for a walk or other physical activity;Do other work and come back later;Visit another developer community (please name):',\n",
       " 'Play games;Go for a walk or other physical activity;Panic',\n",
       " 'Play games;Go for a walk or other physical activity;Panic;Do other work and come back later',\n",
       " 'Play games;Go for a walk or other physical activity;Panic;Do other work and come back later;Visit another developer community (please name):',\n",
       " 'Play games;Go for a walk or other physical activity;Panic;Watch help / tutorial videos',\n",
       " 'Play games;Go for a walk or other physical activity;Panic;Watch help / tutorial videos;Do other work and come back later',\n",
       " 'Play games;Go for a walk or other physical activity;Panic;Watch help / tutorial videos;Do other work and come back later;Visit another developer community (please name):',\n",
       " 'Play games;Go for a walk or other physical activity;Visit another developer community (please name):',\n",
       " 'Play games;Go for a walk or other physical activity;Watch help / tutorial videos',\n",
       " 'Play games;Go for a walk or other physical activity;Watch help / tutorial videos;Do other work and come back later',\n",
       " 'Play games;Go for a walk or other physical activity;Watch help / tutorial videos;Do other work and come back later;Visit another developer community (please name):',\n",
       " 'Play games;Go for a walk or other physical activity;Watch help / tutorial videos;Visit another developer community (please name):',\n",
       " 'Play games;Panic',\n",
       " 'Play games;Panic;Do other work and come back later',\n",
       " 'Play games;Panic;Do other work and come back later;Visit another developer community (please name):',\n",
       " 'Play games;Panic;Watch help / tutorial videos',\n",
       " 'Play games;Panic;Watch help / tutorial videos;Do other work and come back later',\n",
       " 'Play games;Panic;Watch help / tutorial videos;Do other work and come back later;Visit another developer community (please name):',\n",
       " 'Play games;Visit Stack Overflow',\n",
       " 'Play games;Visit Stack Overflow;Do other work and come back later',\n",
       " 'Play games;Visit Stack Overflow;Do other work and come back later;Visit another developer community (please name):',\n",
       " 'Play games;Visit Stack Overflow;Go for a walk or other physical activity',\n",
       " 'Play games;Visit Stack Overflow;Go for a walk or other physical activity;Do other work and come back later',\n",
       " 'Play games;Visit Stack Overflow;Go for a walk or other physical activity;Do other work and come back later;Visit another developer community (please name):',\n",
       " 'Play games;Visit Stack Overflow;Go for a walk or other physical activity;Panic',\n",
       " 'Play games;Visit Stack Overflow;Go for a walk or other physical activity;Panic;Do other work and come back later',\n",
       " 'Play games;Visit Stack Overflow;Go for a walk or other physical activity;Panic;Do other work and come back later;Visit another developer community (please name):',\n",
       " 'Play games;Visit Stack Overflow;Go for a walk or other physical activity;Panic;Watch help / tutorial videos',\n",
       " 'Play games;Visit Stack Overflow;Go for a walk or other physical activity;Panic;Watch help / tutorial videos;Do other work and come back later',\n",
       " 'Play games;Visit Stack Overflow;Go for a walk or other physical activity;Panic;Watch help / tutorial videos;Do other work and come back later;Visit another developer community (please name):',\n",
       " 'Play games;Visit Stack Overflow;Go for a walk or other physical activity;Panic;Watch help / tutorial videos;Visit another developer community (please name):',\n",
       " 'Play games;Visit Stack Overflow;Go for a walk or other physical activity;Visit another developer community (please name):',\n",
       " 'Play games;Visit Stack Overflow;Go for a walk or other physical activity;Watch help / tutorial videos',\n",
       " 'Play games;Visit Stack Overflow;Go for a walk or other physical activity;Watch help / tutorial videos;Do other work and come back later',\n",
       " 'Play games;Visit Stack Overflow;Go for a walk or other physical activity;Watch help / tutorial videos;Do other work and come back later;Visit another developer community (please name):',\n",
       " 'Play games;Visit Stack Overflow;Go for a walk or other physical activity;Watch help / tutorial videos;Visit another developer community (please name):',\n",
       " 'Play games;Visit Stack Overflow;Panic',\n",
       " 'Play games;Visit Stack Overflow;Panic;Do other work and come back later',\n",
       " 'Play games;Visit Stack Overflow;Panic;Do other work and come back later;Visit another developer community (please name):',\n",
       " 'Play games;Visit Stack Overflow;Panic;Visit another developer community (please name):',\n",
       " 'Play games;Visit Stack Overflow;Panic;Watch help / tutorial videos',\n",
       " 'Play games;Visit Stack Overflow;Panic;Watch help / tutorial videos;Do other work and come back later',\n",
       " 'Play games;Visit Stack Overflow;Panic;Watch help / tutorial videos;Do other work and come back later;Visit another developer community (please name):',\n",
       " 'Play games;Visit Stack Overflow;Panic;Watch help / tutorial videos;Visit another developer community (please name):',\n",
       " 'Play games;Visit Stack Overflow;Visit another developer community (please name):',\n",
       " 'Play games;Visit Stack Overflow;Watch help / tutorial videos',\n",
       " 'Play games;Visit Stack Overflow;Watch help / tutorial videos;Do other work and come back later',\n",
       " 'Play games;Visit Stack Overflow;Watch help / tutorial videos;Do other work and come back later;Visit another developer community (please name):',\n",
       " 'Play games;Visit Stack Overflow;Watch help / tutorial videos;Visit another developer community (please name):',\n",
       " 'Play games;Visit another developer community (please name):',\n",
       " 'Play games;Watch help / tutorial videos',\n",
       " 'Play games;Watch help / tutorial videos;Do other work and come back later',\n",
       " 'Play games;Watch help / tutorial videos;Do other work and come back later;Visit another developer community (please name):',\n",
       " 'Play games;Watch help / tutorial videos;Visit another developer community (please name):',\n",
       " 'Visit Stack Overflow',\n",
       " 'Visit Stack Overflow;Do other work and come back later',\n",
       " 'Visit Stack Overflow;Do other work and come back later;Visit another developer community (please name):',\n",
       " 'Visit Stack Overflow;Go for a walk or other physical activity',\n",
       " 'Visit Stack Overflow;Go for a walk or other physical activity;Do other work and come back later',\n",
       " 'Visit Stack Overflow;Go for a walk or other physical activity;Do other work and come back later;Visit another developer community (please name):',\n",
       " 'Visit Stack Overflow;Go for a walk or other physical activity;Panic',\n",
       " 'Visit Stack Overflow;Go for a walk or other physical activity;Panic;Do other work and come back later',\n",
       " 'Visit Stack Overflow;Go for a walk or other physical activity;Panic;Do other work and come back later;Visit another developer community (please name):',\n",
       " 'Visit Stack Overflow;Go for a walk or other physical activity;Panic;Visit another developer community (please name):',\n",
       " 'Visit Stack Overflow;Go for a walk or other physical activity;Panic;Watch help / tutorial videos',\n",
       " 'Visit Stack Overflow;Go for a walk or other physical activity;Panic;Watch help / tutorial videos;Do other work and come back later',\n",
       " 'Visit Stack Overflow;Go for a walk or other physical activity;Panic;Watch help / tutorial videos;Do other work and come back later;Visit another developer community (please name):',\n",
       " 'Visit Stack Overflow;Go for a walk or other physical activity;Panic;Watch help / tutorial videos;Visit another developer community (please name):',\n",
       " 'Visit Stack Overflow;Go for a walk or other physical activity;Visit another developer community (please name):',\n",
       " 'Visit Stack Overflow;Go for a walk or other physical activity;Watch help / tutorial videos',\n",
       " 'Visit Stack Overflow;Go for a walk or other physical activity;Watch help / tutorial videos;Do other work and come back later',\n",
       " 'Visit Stack Overflow;Go for a walk or other physical activity;Watch help / tutorial videos;Do other work and come back later;Visit another developer community (please name):',\n",
       " 'Visit Stack Overflow;Go for a walk or other physical activity;Watch help / tutorial videos;Visit another developer community (please name):',\n",
       " 'Visit Stack Overflow;Panic',\n",
       " 'Visit Stack Overflow;Panic;Do other work and come back later',\n",
       " 'Visit Stack Overflow;Panic;Do other work and come back later;Visit another developer community (please name):',\n",
       " 'Visit Stack Overflow;Panic;Visit another developer community (please name):',\n",
       " 'Visit Stack Overflow;Panic;Watch help / tutorial videos',\n",
       " 'Visit Stack Overflow;Panic;Watch help / tutorial videos;Do other work and come back later',\n",
       " 'Visit Stack Overflow;Panic;Watch help / tutorial videos;Do other work and come back later;Visit another developer community (please name):',\n",
       " 'Visit Stack Overflow;Panic;Watch help / tutorial videos;Visit another developer community (please name):',\n",
       " 'Visit Stack Overflow;Visit another developer community (please name):',\n",
       " 'Visit Stack Overflow;Watch help / tutorial videos',\n",
       " 'Visit Stack Overflow;Watch help / tutorial videos;Do other work and come back later',\n",
       " 'Visit Stack Overflow;Watch help / tutorial videos;Do other work and come back later;Visit another developer community (please name):',\n",
       " 'Visit Stack Overflow;Watch help / tutorial videos;Visit another developer community (please name):',\n",
       " 'Visit another developer community (please name):',\n",
       " 'Watch help / tutorial videos',\n",
       " 'Watch help / tutorial videos;Do other work and come back later',\n",
       " 'Watch help / tutorial videos;Do other work and come back later;Visit another developer community (please name):',\n",
       " 'Watch help / tutorial videos;Visit another developer community (please name):',\n",
       " nan}"
      ]
     },
     "execution_count": 114,
     "metadata": {},
     "output_type": "execute_result"
    }
   ],
   "source": [
    "set(df['NEWStuck'])"
   ]
  },
  {
   "cell_type": "markdown",
   "metadata": {},
   "source": [
    "We can put the options into a list, and work from there by creating a dummy variable."
   ]
  },
  {
   "cell_type": "code",
   "execution_count": 3,
   "metadata": {},
   "outputs": [],
   "source": [
    "possible_vals = ['Call a coworker or friend', \n",
    "                 'Do other work and come back later', \n",
    "                 'Visit another developer community (please name):', \n",
    "                 'Go for a walk or other physical activity', \n",
    "                 'Panic',\n",
    "                 'Watch help / tutorial videos', \n",
    "                 'Visit Stack Overflow', \n",
    "                 'Meditate', \n",
    "                 'Play games']\n",
    "\n",
    "df_dummy = df['NEWStuck'].str.get_dummies(sep=';')"
   ]
  },
  {
   "cell_type": "markdown",
   "metadata": {},
   "source": [
    "Now we can plot a pie chart!"
   ]
  },
  {
   "cell_type": "code",
   "execution_count": 4,
   "metadata": {},
   "outputs": [
    {
     "data": {
      "image/png": "[encoded data removed]",
      "text/plain": [
       "<Figure size 1080x720 with 1 Axes>"
      ]
     },
     "metadata": {},
     "output_type": "display_data"
    }
   ],
   "source": [
    "df_dummy.sum().sort_values(ascending=False).plot(kind='pie', \n",
    "                                                 figsize=(15,10), \n",
    "                                                 title='What to do when stuck',\n",
    "                                                 autopct='%1.1f%%')\n",
    "plt.ylabel('')\n",
    "plt.show()"
   ]
  },
  {
   "cell_type": "markdown",
   "metadata": {},
   "source": [
    "### Analysis\n",
    "We can see from the chart that many people actually go on and do other things when stuck on a problem. And it is unsurprising that \"visit Stack Overflow is the most popular choice, since the survey was conducted among people who are likely to be regular users of the platform!"
   ]
  },
  {
   "cell_type": "code",
   "execution_count": null,
   "metadata": {},
   "outputs": [],
   "source": []
  }
 ],
 "metadata": {
  "kernelspec": {
   "display_name": "Python 3",
   "language": "python",
   "name": "python3"
  },
  "language_info": {
   "codemirror_mode": {
    "name": "ipython",
    "version": 3
   },
   "file_extension": ".py",
   "mimetype": "text/x-python",
   "name": "python",
   "nbconvert_exporter": "python",
   "pygments_lexer": "ipython3",
   "version": "3.7.6"
  }
 },
 "nbformat": 4,
 "nbformat_minor": 4
}
